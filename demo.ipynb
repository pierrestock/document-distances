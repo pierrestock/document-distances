{
 "cells": [
  {
   "cell_type": "markdown",
   "metadata": {
    "collapsed": false
   },
   "source": [
    "__Fast computation of document distances using optimal transportation__\n",
    "========================================================\n",
    "\n",
    "We illustrate the algorithm described in the report "
   ]
  },
  {
   "cell_type": "code",
   "execution_count": null,
   "metadata": {
    "collapsed": true
   },
   "outputs": [],
   "source": [
    "import numpy as np\n",
    "import matplotlib.pyplot as plt\n",
    "\n",
    "from nt_toolbox.general import *\n",
    "from nt_toolbox.signal import *\n",
    "\n",
    "%matplotlib inline\n",
    "%load_ext autoreload\n",
    "%autoreload 2"
   ]
  },
  {
   "cell_type": "code",
   "execution_count": null,
   "metadata": {
    "collapsed": true
   },
   "outputs": [],
   "source": []
  },
  {
   "cell_type": "code",
   "execution_count": 7,
   "metadata": {
    "collapsed": false
   },
   "outputs": [
    {
     "data": {
      "text/plain": [
       "array([[ 3.17960085,  3.00464117,  2.98006177,  3.47547887,  3.40356802,\n",
       "         3.51069357,  2.86673376,  3.13844498,  3.02719937,  3.52843742,\n",
       "         3.41696749,  2.9675529 ,  3.23956903,  3.7306532 ,  3.37666687,\n",
       "         3.58538278,  3.22045194,  3.59128535,  2.77774602,  2.83868129,\n",
       "         2.97110435,  2.80962364,  3.11266511,  3.09630885,  3.03864862,\n",
       "         3.83286946,  2.94025447,  2.90449921,  3.42703267,  3.02295638,\n",
       "         3.49994481,  3.51999557,  3.01399717,  3.24602754,  3.39829723,\n",
       "         2.6232439 ,  3.03406465,  3.06383347,  3.40152698,  3.18901259,\n",
       "         3.06587051,  3.35685926,  3.24826476,  3.52809152,  3.52959   ,\n",
       "         3.2897755 ,  3.24230779,  3.06338378,  3.4974024 ,  3.11517948,\n",
       "         3.01149047,  2.91194739,  3.4289691 ,  3.20045799,  3.01585022,\n",
       "         3.93562134,  3.14223004,  3.21429235,  3.27908842,  3.09519142,\n",
       "         3.24602754,  2.91915351,  2.72074483,  2.97997883,  2.86730362,\n",
       "         2.87390908,  3.02584257,  2.95423443,  3.64292456,  3.0746785 ,\n",
       "         3.15538876,  3.05719948,  2.98653581,  3.27397118,  3.21194025,\n",
       "         2.88528335,  2.8819789 ,  3.09947122,  3.49367561,  3.35399522,\n",
       "         3.58289424,  3.31352422,  3.45009369,  3.02292275,  3.25941575,\n",
       "         2.99308394,  2.79843273,  3.5852856 ,  3.13907063,  3.09031677,\n",
       "         2.98166464,  3.51619858,  2.9116697 ,  3.24239757,  3.58655702,\n",
       "         3.47276798,  3.68602031,  3.47965244,  3.08862196,  3.60784029]])"
      ]
     },
     "execution_count": 7,
     "metadata": {},
     "output_type": "execute_result"
    }
   ],
   "source": [
    "with open(\"data/sport1.txt\", encoding='utf-8') as f:\n",
    "    sport1 = f.read()\n",
    "with open(\"data/sport2.txt\", encoding='utf-8') as f:\n",
    "    sport2 = f.read()\n",
    "with open(\"data/politics1.txt\", encoding='utf-8') as f:\n",
    "    politics1 = f.read()\n",
    "with open(\"data/politics2.txt\", encoding='utf-8') as f:\n",
    "    politics2 = f.read()"
   ]
  }
 ],
 "metadata": {
  "anaconda-cloud": {},
  "kernelspec": {
   "display_name": "Python [Root]",
   "language": "python",
   "name": "Python [Root]"
  },
  "language_info": {
   "codemirror_mode": {
    "name": "ipython",
    "version": 3
   },
   "file_extension": ".py",
   "mimetype": "text/x-python",
   "name": "python",
   "nbconvert_exporter": "python",
   "pygments_lexer": "ipython3",
   "version": "3.5.2"
  }
 },
 "nbformat": 4,
 "nbformat_minor": 0
}
