{
 "cells": [
  {
   "cell_type": "code",
   "execution_count": 1,
   "metadata": {
    "collapsed": false
   },
   "outputs": [
    {
     "name": "stdout",
     "output_type": "stream",
     "text": [
      "Preprocessing:  0.0011751651763916016\n",
      "Initialize tf:  3.5254878997802734\n",
      "Cost matrix:  1.5224568843841553\n",
      "Sinkhorn:  5.589770793914795\n",
      "Recover variables:  0.9383609294891357\n",
      "Distance matrix:  1.96132493019104\n"
     ]
    }
   ],
   "source": [
    "import numpy as np\n",
    "import pickle as pkl\n",
    "from distance_gpu import distance_gpu\n",
    "\n",
    "# load train/test data\n",
    "reuters_train = []\n",
    "category_train = []\n",
    "with open(\"data/reuters_train.txt\") as f:\n",
    "    for new in f:\n",
    "        category, left = new.split(\"\\t\")\n",
    "        text = left.split(\" reuter\")[0]\n",
    "        reuters_train = reuters_train + [text]\n",
    "        category_train = category_train + [category]\n",
    "\n",
    "reuters_test = []\n",
    "category_test = []\n",
    "with open(\"data/reuters_test.txt\") as f:\n",
    "    for new in f:\n",
    "        category, left = new.split(\"\\t\")\n",
    "        text = left.split(\" reuter\")[0]\n",
    "        reuters_test = reuters_test + [text]\n",
    "        category_test = category_test + [category]\n",
    "\n",
    "# test 1 (must be OK))\n",
    "D = distance_gpu(reuters_test[:1],reuters_train[:1], 1, 100, verbose = 1)\n",
    "#D = distance_gpu(reuters_test[:1],reuters_train[:1], 1, 200, verbose = 1)\n",
    "#D = distance_gpu(reuters_test[:1],reuters_train[:1], 1, 300, verbose = 1)\n",
    "#D = distance_gpu(reuters_test[:1],reuters_train[:1], 1, 500, verbose = 1)\n",
    "#D = distance_gpu(reuters_test[:1],reuters_train[:1], 1, 1000, verbose = 1)\n",
    "#\n",
    "## test 2 (should be OK)\n",
    "#D = distance_gpu(reuters_test[:1],reuters_train[:1000], 1, 100, verbose = 1)\n",
    "#\n",
    "## test 3 (memory issues?)\n",
    "#D = distance_gpu(reuters_test[:1],reuters_train, 1, 100, verbose = 1)\n",
    "#\n",
    "## save results\n",
    "#pkl.dump(D, open(\"data/D.p\", 'wb'))"
   ]
  },
  {
   "cell_type": "code",
   "execution_count": 7,
   "metadata": {
    "collapsed": false
   },
   "outputs": [
    {
     "data": {
      "text/plain": [
       "array([[ 3.17960085,  3.00464117,  2.98006177,  3.47547887,  3.40356802,\n",
       "         3.51069357,  2.86673376,  3.13844498,  3.02719937,  3.52843742,\n",
       "         3.41696749,  2.9675529 ,  3.23956903,  3.7306532 ,  3.37666687,\n",
       "         3.58538278,  3.22045194,  3.59128535,  2.77774602,  2.83868129,\n",
       "         2.97110435,  2.80962364,  3.11266511,  3.09630885,  3.03864862,\n",
       "         3.83286946,  2.94025447,  2.90449921,  3.42703267,  3.02295638,\n",
       "         3.49994481,  3.51999557,  3.01399717,  3.24602754,  3.39829723,\n",
       "         2.6232439 ,  3.03406465,  3.06383347,  3.40152698,  3.18901259,\n",
       "         3.06587051,  3.35685926,  3.24826476,  3.52809152,  3.52959   ,\n",
       "         3.2897755 ,  3.24230779,  3.06338378,  3.4974024 ,  3.11517948,\n",
       "         3.01149047,  2.91194739,  3.4289691 ,  3.20045799,  3.01585022,\n",
       "         3.93562134,  3.14223004,  3.21429235,  3.27908842,  3.09519142,\n",
       "         3.24602754,  2.91915351,  2.72074483,  2.97997883,  2.86730362,\n",
       "         2.87390908,  3.02584257,  2.95423443,  3.64292456,  3.0746785 ,\n",
       "         3.15538876,  3.05719948,  2.98653581,  3.27397118,  3.21194025,\n",
       "         2.88528335,  2.8819789 ,  3.09947122,  3.49367561,  3.35399522,\n",
       "         3.58289424,  3.31352422,  3.45009369,  3.02292275,  3.25941575,\n",
       "         2.99308394,  2.79843273,  3.5852856 ,  3.13907063,  3.09031677,\n",
       "         2.98166464,  3.51619858,  2.9116697 ,  3.24239757,  3.58655702,\n",
       "         3.47276798,  3.68602031,  3.47965244,  3.08862196,  3.60784029]])"
      ]
     },
     "execution_count": 7,
     "metadata": {},
     "output_type": "execute_result"
    }
   ],
   "source": [
    "D"
   ]
  }
 ],
 "metadata": {
  "kernelspec": {
   "display_name": "Python [Root]",
   "language": "python",
   "name": "Python [Root]"
  },
  "language_info": {
   "codemirror_mode": {
    "name": "ipython",
    "version": 3
   },
   "file_extension": ".py",
   "mimetype": "text/x-python",
   "name": "python",
   "nbconvert_exporter": "python",
   "pygments_lexer": "ipython3",
   "version": "3.5.2"
  }
 },
 "nbformat": 4,
 "nbformat_minor": 0
}
