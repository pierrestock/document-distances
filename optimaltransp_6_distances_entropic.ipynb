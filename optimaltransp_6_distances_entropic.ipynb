{
 "cells": [
  {
   "cell_type": "markdown",
   "metadata": {},
   "source": [
    "Measuring the similarity between documents \n",
    "========================================================\n",
    "\n",
    "*Important:* Please read the [installation page](http://gpeyre.github.io/numerical-tours/installation_matlab/) for details about how to install the toolboxes.\n",
    "$\\newcommand{\\dotp}[2]{\\langle #1, #2 \\rangle}$\n",
    "$\\newcommand{\\enscond}[2]{\\lbrace #1, #2 \\rbrace}$\n",
    "$\\newcommand{\\pd}[2]{ \\frac{ \\partial #1}{\\partial #2} }$\n",
    "$\\newcommand{\\umin}[1]{\\underset{#1}{\\min}\\;}$\n",
    "$\\newcommand{\\umax}[1]{\\underset{#1}{\\max}\\;}$\n",
    "$\\newcommand{\\umin}[1]{\\underset{#1}{\\min}\\;}$\n",
    "$\\newcommand{\\uargmin}[1]{\\underset{#1}{argmin}\\;}$\n",
    "$\\newcommand{\\norm}[1]{\\|#1\\|}$\n",
    "$\\newcommand{\\abs}[1]{\\left|#1\\right|}$\n",
    "$\\newcommand{\\choice}[1]{ \\left\\{  \\begin{array}{l} #1 \\end{array} \\right. }$\n",
    "$\\newcommand{\\pa}[1]{\\left(#1\\right)}$\n",
    "$\\newcommand{\\diag}[1]{{diag}\\left( #1 \\right)}$\n",
    "$\\newcommand{\\qandq}{\\quad\\text{and}\\quad}$\n",
    "$\\newcommand{\\qwhereq}{\\quad\\text{where}\\quad}$\n",
    "$\\newcommand{\\qifq}{ \\quad \\text{if} \\quad }$\n",
    "$\\newcommand{\\qarrq}{ \\quad \\Longrightarrow \\quad }$\n",
    "$\\newcommand{\\ZZ}{\\mathbb{Z}}$\n",
    "$\\newcommand{\\CC}{\\mathbb{C}}$\n",
    "$\\newcommand{\\RR}{\\mathbb{R}}$\n",
    "$\\newcommand{\\EE}{\\mathbb{E}}$\n",
    "$\\newcommand{\\Zz}{\\mathcal{Z}}$\n",
    "$\\newcommand{\\Ww}{\\mathcal{W}}$\n",
    "$\\newcommand{\\Vv}{\\mathcal{V}}$\n",
    "$\\newcommand{\\Nn}{\\mathcal{N}}$\n",
    "$\\newcommand{\\NN}{\\mathcal{N}}$\n",
    "$\\newcommand{\\Hh}{\\mathcal{H}}$\n",
    "$\\newcommand{\\Bb}{\\mathcal{B}}$\n",
    "$\\newcommand{\\Ee}{\\mathcal{E}}$\n",
    "$\\newcommand{\\Cc}{\\mathcal{C}}$\n",
    "$\\newcommand{\\Gg}{\\mathcal{G}}$\n",
    "$\\newcommand{\\Ss}{\\mathcal{S}}$\n",
    "$\\newcommand{\\Pp}{\\mathcal{P}}$\n",
    "$\\newcommand{\\Ff}{\\mathcal{F}}$\n",
    "$\\newcommand{\\Xx}{\\mathcal{X}}$\n",
    "$\\newcommand{\\Mm}{\\mathcal{M}}$\n",
    "$\\newcommand{\\Ii}{\\mathcal{I}}$\n",
    "$\\newcommand{\\Dd}{\\mathcal{D}}$\n",
    "$\\newcommand{\\Ll}{\\mathcal{L}}$\n",
    "$\\newcommand{\\Tt}{\\mathcal{T}}$\n",
    "$\\newcommand{\\si}{\\sigma}$\n",
    "$\\newcommand{\\al}{\\alpha}$\n",
    "$\\newcommand{\\la}{\\lambda}$\n",
    "$\\newcommand{\\ga}{\\gamma}$\n",
    "$\\newcommand{\\Ga}{\\Gamma}$\n",
    "$\\newcommand{\\La}{\\Lambda}$\n",
    "$\\newcommand{\\si}{\\sigma}$\n",
    "$\\newcommand{\\Si}{\\Sigma}$\n",
    "$\\newcommand{\\be}{\\beta}$\n",
    "$\\newcommand{\\de}{\\delta}$\n",
    "$\\newcommand{\\De}{\\Delta}$\n",
    "$\\newcommand{\\phi}{\\varphi}$\n",
    "$\\newcommand{\\th}{\\theta}$\n",
    "$\\newcommand{\\om}{\\omega}$\n",
    "$\\newcommand{\\Om}{\\Omega}$\n",
    "$\\newcommand{\\eqdef}{\\equiv}$"
   ]
  },
  {
   "cell_type": "markdown",
   "metadata": {},
   "source": [
    "This numerical tours exposes a numerical method to measure the similarity between documents using the\n",
    "optimal transport problem. This entropic regularized version of this problem is solved using a fast computation algorithm based on iterative projections\n",
    "according to a Kulback-Leiber divergence.\n",
    "$$ \\DeclareMathOperator{\\KL}{KL}\n",
    "\\newcommand{\\KLdiv}[2]{\\KL\\pa{#1 | #2}}\n",
    "\\newcommand{\\KLproj}{P^{\\tiny\\KL}}\n",
    "\\def\\ones{\\mathbb{I}} $$"
   ]
  },
  {
   "cell_type": "code",
   "execution_count": 3,
   "metadata": {
    "collapsed": false
   },
   "outputs": [
    {
     "name": "stdout",
     "output_type": "stream",
     "text": [
      "The autoreload extension is already loaded. To reload it, use:\n",
      "  %reload_ext autoreload\n"
     ]
    }
   ],
   "source": [
    "import numpy as np\n",
    "import scipy as scp\n",
    "import pylab as pyl\n",
    "import gensim as gs\n",
    "import matplotlib.pyplot as plt\n",
    "\n",
    "from nt_toolbox.general import *\n",
    "from nt_toolbox.signal import *\n",
    "\n",
    "%matplotlib inline\n",
    "%load_ext autoreload\n",
    "%autoreload 2"
   ]
  },
  {
   "cell_type": "markdown",
   "metadata": {},
   "source": [
    "Entropic Regularization of Optimal Transport\n",
    "--------------------------------------------\n",
    "We consider two input histograms $p,q \\in \\Si_N$, where we denote the simplex in $\\RR^N$\n",
    "$$ \\Si_{N} \\eqdef \\enscond{ p \\in (\\RR^+)^N }{ \\sum_i p_i = 1 }.  $$\n",
    "We consider the following discrete regularized transport\n",
    "$$  W_\\ga(p,q) \\eqdef \\umin{\\pi \\in \\Pi(p,q)} \\dotp{C}{\\pi} - \\ga E(\\pi).  $$\n",
    "where the polytope of coupling is defined as\n",
    "$$ \\Pi(p,q) \\eqdef \\enscond{\\pi \\in (\\RR^+)^{N \\times N}}{ \\pi \\ones = p, \\pi^T \\ones = q },  $$\n",
    "where $ \\ones \\eqdef (1,\\ldots,1)^T \\in \\RR^N $,\n",
    "and for $\\pi \\in (\\RR^+)^{N \\times N}$, we define its entropy as\n",
    "$$ E(\\pi) \\eqdef - \\sum_{i,j} \\pi_{i,j} ( \\log(\\pi_{i,j}) - 1). $$\n",
    "\n",
    "\n",
    "When $\\ga=0$ one recovers the classical (discrete) optimal transport.\n",
    "We refer to the monograph [Villani](#biblio) for more details about OT.\n",
    "The idea of regularizing transport to allows for faster computation is\n",
    "introduced in [Cuturi](#biblio).\n",
    "\n",
    "\n",
    "Here the matrix $C \\in (\\RR^+)^{N \\times N} $ defines the ground cost, i.e.\n",
    "$C_{i,j}$ is the cost of moving mass from a bin indexed by $i$ to a bin indexed by $j$.\n",
    "\n",
    "\n",
    "The regularized transportation problem can be re-written as a projection\n",
    "$$ W_\\ga(p,q) = \\ga \\umin{\\pi \\in \\Pi(p,q)} \\KLdiv{\\pi}{\\xi}\n",
    "\t\\qwhereq\n",
    "\t\\xi_{i,j} = e^{ -\\frac{C_{i,j}}{\\ga} }  $$\n",
    "of $\\xi$ according to the Kullback-Leibler divergence.\n",
    "The Kullback-Leibler divergence between $\\pi, \\xi \\in (\\RR^+)^P$ is\n",
    "$$ \\KLdiv{\\pi}{\\xi} = \\sum_{i,j} \\pi_{i,j} \\pa{ \\log\\pa{ \\frac{\\pi_{i,j}}{\\xi_{i,j}} } - 1}. $$\n",
    "\n",
    "\n",
    "This interpretation of regularized transport as a KL projection and its numerical\n",
    "applications are detailed in [BenamouEtAl](#biblio).\n",
    "\n",
    "\n",
    "Given a convex set $\\Cc \\subset \\RR^N$, the projection according to the Kullback-Leiber divergence is defined as\n",
    "$$ \\KLproj_\\Cc(\\xi) = \\uargmin{ \\pi \\in \\Cc } \\KLdiv{\\pi}{\\xi}. $$\n",
    "\n",
    "Iterative Bregman Projection Algorithm\n",
    "--------------------------------------\n",
    "Given affine constraint sets $ (\\Cc_1,\\ldots,\\Cc_K) $, we aim at computing\n",
    "$$   \\KLproj_\\Cc(\\xi) \\qwhereq \\Cc = \\Cc_1 \\cap \\ldots \\cap \\Cc_K. $$\n",
    "\n",
    "\n",
    "This can be achieved, starting by $\\pi_0=\\xi$, by iterating\n",
    "$$ \\forall \\ell \\geq 0, \\quad \\pi_{\\ell+1} =  \\KLproj_{\\Cc_\\ell}(\\pi_\\ell), $$\n",
    "where the index of the constraints should be understood modulo $K$,\n",
    "i.e. we set $ \\Cc_{\\ell+K}=\\Cc_\\ell $.\n",
    "\n",
    "\n",
    "One can indeed show that $\\pi_\\ell \\rightarrow \\KLproj_\\Cc(\\bar \\pi)$.\n",
    "We refer to [BauschkeLewis](#biblio) for more details about this\n",
    "algorithm and its extension to compute the projection on the intersection of\n",
    "convex sets (Dikstra algorithm).\n",
    "\n",
    "Iterative Projection for Regularized Transport aka Sinkhorn's Algorithm\n",
    "-----------------------------------------------------------------------\n",
    "We can re-cast the regularized optimal transport problem within this\n",
    "framework by introducing\n",
    "$$ \\Cc_1 \\eqdef \\enscond{\\pi \\in (\\RR^+)^{N \\times N} }{\\pi \\ones = p}\n",
    "\\qandq\n",
    " \\Cc_2 \\eqdef \\enscond{\\pi \\in (\\RR^+)^{N \\times N} }{\\pi^T \\ones = q}. $$\n",
    "\n",
    "\n",
    "The KL projection on $\\Cc_1$ sets are easily computed by divisive\n",
    "normalization of rows. Indeed, denoting\n",
    "$ \\pi = \\KLproj_{\\Cc_1}(\\bar \\pi) $, one has\n",
    "$$ \\forall (i,j), \\quad\n",
    "  \\pi_{i,j} = \\frac{ p_i \\bar\\pi_{i,j} }{ \\sum_{s} \\bar\\pi_{i,s} } $$\n",
    "and similarely for $\\KLproj_{\\Cc_1}(\\bar \\pi) $ by replacing rows by\n",
    "colums.\n",
    "\n",
    "A fundamental remark is that, if $\\bar\\pi = \\diag(a) \\xi \\diag(b)$ (a\n",
    "so-called diagonal scaling of the kernel $\\xi$), then one has\n",
    "$$ \\KLproj_{\\Cc_1}(\\bar \\pi) = \\diag(\\tilde a) \\xi \\diag(b)\n",
    "  \\qandq\n",
    "  \\KLproj_{\\Cc_2}(\\bar \\pi) = \\diag(a) \\xi \\diag(\\tilde b)$$\n",
    " where the new scaling reads\n",
    "  $$ \\tilde a = \\frac{p}{\\xi(b)}  \\qandq  \\tilde b = \\frac{q}{\\xi^T(a)} $$\n",
    "where $\\frac{\\cdot}{\\cdot}$ is entry-wise division.\n",
    "\n",
    "\n",
    "This means that the iterates of Bregman iterative projections, starting\n",
    "with $ a_0 \\eqdef \\ones $ always have the form\n",
    "$ \\pi_\\ell = \\diag(a_\\ell) \\xi \\diag(b_\\ell)  $\n",
    "and these diagonal scaling weights are updated as follow\n",
    "$$  a_{\\ell+1} \\eqdef \\frac{p}{\\xi(b_\\ell)}\n",
    "      \\qandq\n",
    "  b_{\\ell+1} \\eqdef \\frac{q}{\\xi^T(a_{\\ell+1})}. $$\n",
    "This algorithm is in fact the well known Sinkhorn algorithm [Sinkhorn](#biblio)."
   ]
  },
  {
   "cell_type": "markdown",
   "metadata": {},
   "source": [
    "Embedding the words with word2vec\n",
    "------------------------------\n",
    "Each word is mapped to a high-dimentional space using Google's word2vec embedding (see [Mikolov](#biblio)).\n",
    "\n",
    "Load Google's pre-trained Word2Vec model. This will take some time, estimated amount of RAM needed: 5GB. "
   ]
  },
  {
   "cell_type": "code",
   "execution_count": 4,
   "metadata": {
    "collapsed": false
   },
   "outputs": [],
   "source": [
    "w2v_model = gs.models.Word2Vec.load_word2vec_format('word2vec/GoogleNews-vectors-negative300.bin.gz', binary=True)  "
   ]
  },
  {
   "cell_type": "markdown",
   "metadata": {},
   "source": [
    "Distances between documents using histograms of words\n",
    "-----------------------\n",
    "We first will use the approach explained in [Kusner](#biblio) consisting in solving the transportation problem between histograms of texts. After a preprocessing step (see below for details), each document is mapped to an histogram counting the occurences of the words in that document (using as support all the words appearing in at least on of the documents). \n",
    "\n",
    "The words are then embedded in a high-dimentional space using the word2vec model. The distance between the two docments is then the minimum transportation cost between the two histograms :\n",
    "$$d = \\min_{\\pi \\in \\Pi(p,q)}\\sum_{i,j}\\pi_{i,j} C_{i,j}$$\n",
    "with the weight constraints $$\\pi \\in \\Pi(p,q) = \\enscond{\\pi \\in (\\RR^+)^{N \\times N}}{ \\pi \\ones = p, \\pi^T \\ones = q }$$\n",
    "using:\n",
    "- The euclidian norm in the embedding space as transportation cost $C_{i,j}$,\n",
    "- Weights $p$ and $q$ representing the occurences of words on each document.\n",
    "\n",
    "Instead of directly solving this problem, we rather implement Sinkhorn's algorithm on its entropic regularized version described in [Sinkhorn](#biblio). Note that the most (equally) computationally intensive steps are:\n",
    "- The calculus of the cost matrix (we gained a factor 10 by using the scipy.spatial library\n",
    "- Sinkhorn's algorithm"
   ]
  },
  {
   "cell_type": "markdown",
   "metadata": {
    "collapsed": true
   },
   "source": [
    "__Preprocessing__\n",
    "\n",
    "Load documents (NY Times articles concerning sports or politics) and select 2 of them."
   ]
  },
  {
   "cell_type": "code",
   "execution_count": 5,
   "metadata": {
    "collapsed": true
   },
   "outputs": [],
   "source": [
    "with open(\"data/sport1.txt\") as f:\n",
    "    sport1 = f.read()\n",
    "with open(\"data/sport2.txt\") as f:\n",
    "    sport2 = f.read()\n",
    "with open(\"data/politics1.txt\") as f:\n",
    "    politics1 = f.read()\n",
    "with open(\"data/politics2.txt\") as f:\n",
    "    politics2 = f.read()\n",
    "    \n",
    "d1 = politics1\n",
    "d2 = politics2"
   ]
  },
  {
   "cell_type": "markdown",
   "metadata": {},
   "source": [
    "Lowerize the words and remove the digits."
   ]
  },
  {
   "cell_type": "code",
   "execution_count": 6,
   "metadata": {
    "collapsed": false
   },
   "outputs": [],
   "source": [
    "d1_no_digit = ''.join([c.lower() for c in d1 if not c.isdigit()])\n",
    "d2_no_digit = ''.join([c.lower() for c in d2 if not c.isdigit()])"
   ]
  },
  {
   "cell_type": "markdown",
   "metadata": {},
   "source": [
    "Then tokenize the text, i.e. break it into a vector of words (this process is more complicated that it seems to be, see documentation for examples). In this step, the ponctuation is also removed."
   ]
  },
  {
   "cell_type": "code",
   "execution_count": 7,
   "metadata": {
    "collapsed": false
   },
   "outputs": [],
   "source": [
    "from sklearn.feature_extraction.text import CountVectorizer\n",
    "\n",
    "d1_vect = CountVectorizer().build_tokenizer()(d1_no_digit)\n",
    "d2_vect = CountVectorizer().build_tokenizer()(d2_no_digit) "
   ]
  },
  {
   "cell_type": "markdown",
   "metadata": {},
   "source": [
    "Remove the stopwords, refering to the most common words in a language and thus carrying little to no specific meaning. Those stop words are taken from the SMART list described in [Salton](#biblio). "
   ]
  },
  {
   "cell_type": "code",
   "execution_count": 8,
   "metadata": {
    "collapsed": false
   },
   "outputs": [
    {
     "name": "stdout",
     "output_type": "stream",
     "text": [
      "Some examples of stopwords: ['what' 'an' 'each' 'very' 'by']\n"
     ]
    }
   ],
   "source": [
    "from nltk.corpus import stopwords\n",
    "from numpy import random\n",
    "\n",
    "stop_words = np.array(stopwords.words('english'))\n",
    "sample = random.choice(len(stop_words), 5)\n",
    "print(\"Some examples of stopwords:\", stop_words[sample])\n",
    "\n",
    "d1_clean = [w for w in d1_vect if w not in stop_words]\n",
    "d2_clean = [w for w in d2_vect if w not in stop_words]"
   ]
  },
  {
   "cell_type": "markdown",
   "metadata": {},
   "source": [
    "Remove the words that are not known by the model."
   ]
  },
  {
   "cell_type": "code",
   "execution_count": 9,
   "metadata": {
    "collapsed": false
   },
   "outputs": [],
   "source": [
    "to_delete_1 = []\n",
    "for i in range(len(d1_clean)):\n",
    "    try:\n",
    "        w2v_model[d1_clean[i]]\n",
    "    except KeyError:\n",
    "        to_delete_1 = to_delete_1 + [d1_clean[i]]\n",
    "d1_ready = [w for w in d1_clean if w not in to_delete_1]\n",
    "\n",
    "to_delete_2 = []\n",
    "for i in range(len(d2_clean)):\n",
    "    try:\n",
    "        w2v_model[d2_clean[i]]\n",
    "    except KeyError:\n",
    "        to_delete_2 = to_delete_2 + [d2_clean[i]]\n",
    "d2_ready = [w for w in d2_clean if w not in to_delete_2]\n",
    "\n",
    "n_unknown = len(np.unique(to_delete_1 + to_delete_2))"
   ]
  },
  {
   "cell_type": "markdown",
   "metadata": {},
   "source": [
    "__Build the histograms__\n",
    "\n",
    "Build the word histograms using as support the words appearing in at least one of the documents."
   ]
  },
  {
   "cell_type": "code",
   "execution_count": 10,
   "metadata": {
    "collapsed": false
   },
   "outputs": [
    {
     "name": "stdout",
     "output_type": "stream",
     "text": [
      "Unknown words: 7/442 (1.58%)\n"
     ]
    }
   ],
   "source": [
    "from collections import Counter\n",
    "\n",
    "support = np.union1d(d1_ready, d2_ready)\n",
    "d1_count = Counter(support) + (Counter(d1_ready))\n",
    "d2_count = Counter(support) + (Counter(d2_ready)) \n",
    "\n",
    "words, p = zip(*d1_count.items())\n",
    "words, q = zip(*d2_count.items())\n",
    "words = np.array(words)\n",
    "\n",
    "N = len(words)\n",
    "p = np.array(p) - 1\n",
    "q = np.array(q) - 1\n",
    "\n",
    "print(\"Unknown words: %i/%i (%.2f%%)\" %(n_unknown, N, 100 * n_unknown / N))"
   ]
  },
  {
   "cell_type": "markdown",
   "metadata": {},
   "source": [
    "Add some minimal mass and normalize"
   ]
  },
  {
   "cell_type": "code",
   "execution_count": 11,
   "metadata": {
    "collapsed": false
   },
   "outputs": [],
   "source": [
    "vmin = .01;\n",
    "normalize = lambda p: p / np.sum(p)\n",
    "p = normalize(p + np.max(p) * vmin)\n",
    "q = normalize(q + np.max(q) * vmin)"
   ]
  },
  {
   "cell_type": "markdown",
   "metadata": {},
   "source": [
    "Display the word histograms."
   ]
  },
  {
   "cell_type": "code",
   "execution_count": 12,
   "metadata": {
    "collapsed": false
   },
   "outputs": [
    {
     "data": {
      "image/png": "[encoded data removed]",
      "text/plain": [
       "<matplotlib.figure.Figure at 0x330a7f2e8>"
      ]
     },
     "metadata": {},
     "output_type": "display_data"
    }
   ],
   "source": [
    "N = len(words)\n",
    "t = np.arange(0,N) / N\n",
    "\n",
    "plt.figure(figsize = (10,7))\n",
    "\n",
    "plt.subplot(2, 1, 1)\n",
    "plt.bar(t, p, width = 1/len(t), color = \"darkblue\")\n",
    "plt.tick_params(axis='x', which='both', bottom='off', top='off', labelbottom='off')\n",
    "\n",
    "plt.subplot(2, 1, 2)\n",
    "plt.bar(t, q, width = 1/len(t), color = \"darkblue\")\n",
    "plt.tick_params(axis='x', which='both', bottom='off', top='off', labelbottom='off')\n",
    "\n",
    "plt.show()"
   ]
  },
  {
   "cell_type": "markdown",
   "metadata": {},
   "source": [
    "Build the cost matrix."
   ]
  },
  {
   "cell_type": "code",
   "execution_count": 13,
   "metadata": {
    "collapsed": false
   },
   "outputs": [],
   "source": [
    "from scipy import spatial\n",
    "\n",
    "Coords = w2v_model[words]\n",
    "C = spatial.distance.squareform(spatial.distance.pdist(Coords))"
   ]
  },
  {
   "cell_type": "markdown",
   "metadata": {},
   "source": [
    "Set regularization strength $\\gamma$."
   ]
  },
  {
   "cell_type": "code",
   "execution_count": 14,
   "metadata": {
    "collapsed": true
   },
   "outputs": [],
   "source": [
    "gamma = 1"
   ]
  },
  {
   "cell_type": "markdown",
   "metadata": {},
   "source": [
    "Compute Gibbs Kernel"
   ]
  },
  {
   "cell_type": "code",
   "execution_count": 15,
   "metadata": {
    "collapsed": true
   },
   "outputs": [],
   "source": [
    "xi = np.exp(-C**2 / gamma)"
   ]
  },
  {
   "cell_type": "markdown",
   "metadata": {},
   "source": [
    "__Compute the optimal transportation policy__\n",
    "\n",
    "Perform Sinkhorn's algorithm."
   ]
  },
  {
   "cell_type": "code",
   "execution_count": 16,
   "metadata": {
    "collapsed": false
   },
   "outputs": [],
   "source": [
    "from numpy import linalg\n",
    "\n",
    "b = np.ones(N)\n",
    "niter = 100\n",
    "Err_p = []\n",
    "Err_q = []\n",
    "\n",
    "for i in range(niter):\n",
    "    a = p / (np.dot(xi, b))\n",
    "    Err_q = Err_q + [linalg.norm(b * np.dot(xi, a) - q) / linalg.norm(q)]\n",
    "    b = q / (np.dot(np.transpose(xi), a))\n",
    "    Err_p = Err_p + [linalg.norm(a * np.dot(np.transpose(xi) ,b) - p) / linalg.norm(p)]"
   ]
  },
  {
   "cell_type": "markdown",
   "metadata": {},
   "source": [
    "Display the violation constraints."
   ]
  },
  {
   "cell_type": "code",
   "execution_count": 17,
   "metadata": {
    "collapsed": false
   },
   "outputs": [
    {
     "data": {
      "image/png": "[encoded data removed]",
      "text/plain": [
       "<matplotlib.figure.Figure at 0x330d48828>"
      ]
     },
     "metadata": {},
     "output_type": "display_data"
    }
   ],
   "source": [
    "plt.figure(figsize = (15, 7))\n",
    "\n",
    "plt.subplot(2, 2, 1)\n",
    "plt.title(\"$||\\pi - p||$\")\n",
    "plt.plot(np.log(np.asarray(Err_p)), linewidth = 2)\n",
    "\n",
    "plt.subplot(2, 2, 2)\n",
    "plt.title(\"$||\\pi^T - q||$\")\n",
    "plt.plot(np.log(np.asarray(Err_q)), linewidth = 2)\n",
    "\n",
    "plt.show()"
   ]
  },
  {
   "cell_type": "markdown",
   "metadata": {},
   "source": [
    "Calculate the optimal transportation policy and the distance between the 2 documents."
   ]
  },
  {
   "cell_type": "code",
   "execution_count": 18,
   "metadata": {
    "collapsed": false
   },
   "outputs": [
    {
     "name": "stdout",
     "output_type": "stream",
     "text": [
      "Distance between the two documents: 2.49\n"
     ]
    }
   ],
   "source": [
    "Pi = np.dot(np.dot(np.diag(a), xi), np.diag(b))\n",
    "d = np.sum(C * Pi)\n",
    "\n",
    "print(\"Distance between the two documents: %.2f\" %d)"
   ]
  },
  {
   "cell_type": "markdown",
   "metadata": {},
   "source": [
    "__Display results__\n",
    "\n",
    "Display the hottest words (the most \"transported\" ones) by removing the transportations between identic words."
   ]
  },
  {
   "cell_type": "code",
   "execution_count": 19,
   "metadata": {
    "collapsed": false
   },
   "outputs": [
    {
     "name": "stdout",
     "output_type": "stream",
     "text": [
      "Hottest words:\n",
      "obama --> clinton p = 0.03, q = 0.04, pi = 0.01\n"
     ]
    }
   ],
   "source": [
    "print(\"Hottest words:\")\n",
    "hot_idx = np.where((Pi - np.max(Pi) * np.diag(np.ones(N))) > 0.35 * np.max(Pi))\n",
    "for i in range(len(hot_idx[0])):\n",
    "    print(words[hot_idx[0][i]], \"-->\",words[hot_idx[1][i]],\"p = %.2f, q = %.2f, pi = %.2f\" %(p[hot_idx[0][i]], q[hot_idx[1][i]], Pi[hot_idx][i]))"
   ]
  },
  {
   "cell_type": "markdown",
   "metadata": {},
   "source": [
    "Display the whole (log) transportation policy. Notice the white diagonal due to the fact the we artificially added a minimum weight to the histograms. "
   ]
  },
  {
   "cell_type": "code",
   "execution_count": 20,
   "metadata": {
    "collapsed": false
   },
   "outputs": [
    {
     "data": {
      "image/png": "[encoded data removed]",
      "text/plain": [
       "<matplotlib.figure.Figure at 0x332c19438>"
      ]
     },
     "metadata": {},
     "output_type": "display_data"
    }
   ],
   "source": [
    "Pi = np.dot(np.dot(np.diag(a), xi), np.diag(b))\n",
    "\n",
    "plt.figure(figsize=(8, 8))\n",
    "imageplot(np.log(Pi + 1e-4))\n",
    "plt.show()"
   ]
  },
  {
   "cell_type": "markdown",
   "metadata": {},
   "source": [
    "The whole function:"
   ]
  },
  {
   "cell_type": "code",
   "execution_count": 138,
   "metadata": {
    "collapsed": false
   },
   "outputs": [],
   "source": [
    "import numpy as np\n",
    "import scipy as scp\n",
    "import pylab as pyl\n",
    "import gensim as gs\n",
    "import matplotlib.pyplot as plt\n",
    "\n",
    "from numpy import linalg\n",
    "\n",
    "from time import time\n",
    "from collections import Counter\n",
    "from sklearn.feature_extraction.text import CountVectorizer\n",
    "from nltk.corpus import stopwords\n",
    "from scipy import spatial\n",
    "\n",
    "stop_words = set(stopwords.words('english'))\n",
    "#pickle.load(open(\"data/C_most_common.p\", 'rb'))\n",
    "#pickle.load(open(\"data/keys_most_common.p\", 'rb'))\n",
    "\n",
    "def distance(d1, d2, gamma, niter, most_common = 1, verbose = 0):\n",
    "\n",
    "    tm = time()\n",
    "    # lowerise and remove digis \n",
    "    d1_no_digit = ''.join([c.lower() for c in d1 if not c.isdigit()])\n",
    "    d2_no_digit = ''.join([c.lower() for c in d2 if not c.isdigit()])\n",
    "    \n",
    "    # tokenize\n",
    "    d1_vect = CountVectorizer().build_tokenizer()(d1_no_digit)\n",
    "    d2_vect = CountVectorizer().build_tokenizer()(d2_no_digit)\n",
    "    \n",
    "    # remove stop words\n",
    "    d1_clean = [w for w in d1_vect if w not in stop_words]\n",
    "    d2_clean = [w for w in d2_vect if w not in stop_words]\n",
    "    \n",
    "    # remove unknown words from the model (and from the most_common if option activated)\n",
    "    to_delete_1 = []\n",
    "    for i in range(len(d1_clean)):\n",
    "        try:\n",
    "            w2v_model[d1_clean[i]]\n",
    "            if most_common != 0:\n",
    "                keys[d1_clean[i]]\n",
    "        except KeyError:\n",
    "            to_delete_1 = to_delete_1 + [d1_clean[i]]\n",
    "    d1_ready = [w for w in d1_clean if w not in to_delete_1]\n",
    "    \n",
    "    to_delete_2 = []\n",
    "    for i in range(len(d2_clean)):\n",
    "        try:\n",
    "            w2v_model[d2_clean[i]]\n",
    "            if most_common != 0:\n",
    "                keys[d2_clean[i]]\n",
    "        except KeyError:\n",
    "            to_delete_2 = to_delete_2 + [d2_clean[i]]\n",
    "    d2_ready = [w for w in d2_clean if w not in to_delete_2]\n",
    "\n",
    "    n_unknown = len(np.unique(to_delete_1 + to_delete_2))\n",
    "    \n",
    "    # count occurences\n",
    "    support = np.union1d(d1_ready, d2_ready)\n",
    "    \n",
    "    # case when len(d1_ready) = 0 or len(d2_ready) == 0: return inf. \n",
    "    try:\n",
    "        d1_count = Counter(support) + (Counter(d1_ready))\n",
    "        d2_count = Counter(support) + (Counter(d2_ready)) \n",
    "    except ValueError:\n",
    "        return np.float('inf')\n",
    "    \n",
    "    words, p = zip(*d1_count.items())\n",
    "    words, q = zip(*d2_count.items())\n",
    "    words = np.array(words)\n",
    "    N = len(words)\n",
    "    p = np.array(p) - 1\n",
    "    q = np.array(q) - 1\n",
    "    \n",
    "    # normalize and add default mass\n",
    "    vmin = .02;\n",
    "    normalize = lambda p: p/np.sum(p)\n",
    "    p = normalize(p+np.max(p)*vmin)\n",
    "    q = normalize(q+np.max(q)*vmin)\n",
    "\n",
    "    t = np.arange(0,N) / N\n",
    "    \n",
    "    if verbose == 3:\n",
    "        print(\"Preprocessing: \", -tm + time())\n",
    "    tm = time()\n",
    "    # built cost matrix\n",
    "    if most_common == 0:\n",
    "        Coords = w2v_model[words]\n",
    "        C = spatial.distance.squareform(spatial.distance.pdist(Coords))\n",
    "    else: \n",
    "        keys_words = [keys[w] for w in words]\n",
    "        C = C_most_common[np.ix_(keys_words, keys_words)]\n",
    "    xi = np.exp(-C**2 / gamma)\n",
    "    \n",
    "    if verbose == 3:\n",
    "        print(\"Cost matrix: \", -tm + time())\n",
    "    tm = time()\n",
    "    # Sinkhorn's algorithm\n",
    "    b = np.ones(N)\n",
    "    Err_p = []\n",
    "    Err_q = []\n",
    "\n",
    "    for i in range(niter):\n",
    "        a = p/(np.dot(xi,b))\n",
    "        Err_q = Err_q + [linalg.norm(b*np.dot(xi,a) - q)/linalg.norm(q)]\n",
    "        b = q /(np.dot(np.transpose(xi),a))\n",
    "        Err_p = Err_p + [linalg.norm(a*np.dot(np.transpose(xi),b) - p)/linalg.norm(p)]\n",
    "   \n",
    "    if verbose == 3:\n",
    "        print(\"Sinkhorn: \", -tm + time())\n",
    "    tm = time()\n",
    "    # calculate pi and d\n",
    "    Pi = np.dot(np.dot(np.diag(a),xi),np.diag(b))\n",
    "    d = np.sum(C * Pi)\n",
    "    \n",
    "    # display\n",
    "    if verbose == 1 or verbose == 2:\n",
    "        print(\"Distance between the two documents: %.2f\" %d)\n",
    "        print(\"---\")\n",
    "        print(\"Hottest words:\")\n",
    "        hot_idx = np.where((Pi - np.max(Pi) * np.diag(np.ones(N))) > 0.70 * np.max(Pi))\n",
    "        for i in range(len(hot_idx[0])):\n",
    "            print(words[hot_idx[0][i]], \"-->\",words[hot_idx[1][i]],\"pi = %.2f\" %Pi[hot_idx][i])\n",
    "        print(\"---\")\n",
    "        print(\"Unknown words: %i/%i (%.2f%%)\" %(n_unknown, N, 100 * n_unknown / N))\n",
    "        print(\"---\")\n",
    "        \n",
    "    #plot\n",
    "    if verbose == 2:\n",
    "        plt.figure(figsize = (15, 7))\n",
    "        \n",
    "        plt.subplot(2, 2, 1)\n",
    "        plt.title(\"$||\\pi -p||$\")\n",
    "        plt.plot(np.log(np.asarray(Err_p)), linewidth = 2)\n",
    "        \n",
    "        plt.subplot(2, 2, 2)\n",
    "        plt.title(\"$||\\pi^T -q||$\")\n",
    "        plt.plot(np.log(np.asarray(Err_q)), linewidth = 2)\n",
    "        \n",
    "        plt.show()\n",
    "        \n",
    "        plt.figure(figsize=(7,7))\n",
    "        imageplot(np.log(Pi+1e-5))\n",
    "        \n",
    "        plt.show()\n",
    "    \n",
    "    return d"
   ]
  },
  {
   "cell_type": "markdown",
   "metadata": {},
   "source": [
    "Run some tests with the whole function: first a toy example. Note that similar word are mapped to each other and that the transportation policy for the most transported words almost sums to 1.   "
   ]
  },
  {
   "cell_type": "code",
   "execution_count": 255,
   "metadata": {
    "collapsed": false
   },
   "outputs": [
    {
     "name": "stdout",
     "output_type": "stream",
     "text": [
      "Preprocessing:  0.012215137481689453\n",
      "Cost matrix:  0.002424955368041992\n",
      "Sinkhorn:  0.01310110092163086\n"
     ]
    },
    {
     "data": {
      "text/plain": [
       "1.784102456870464"
      ]
     },
     "execution_count": 255,
     "metadata": {},
     "output_type": "execute_result"
    }
   ],
   "source": [
    "s1 = \"Obama speaks to the media in Illinois\"\n",
    "s2 = \"The President greets the press in Chicago\"\n",
    "\n",
    "distance(sport1,sport2, .1, 100, verbose = 3, most_common = 1)"
   ]
  },
  {
   "cell_type": "markdown",
   "metadata": {},
   "source": [
    "Then an example on articles delaing with different topics. Note that articles in the same category are more similar to each other."
   ]
  },
  {
   "cell_type": "code",
   "execution_count": 272,
   "metadata": {
    "collapsed": false,
    "scrolled": true
   },
   "outputs": [
    {
     "name": "stdout",
     "output_type": "stream",
     "text": [
      "Distance(sport1, sport2) = 1.78 \n",
      "Distance(politics1, politics2) = 1.89 \n",
      "Distance(sport1, politics2) = 2.09 \n",
      "Distance(politics1, sport2) = 2.22 \n"
     ]
    }
   ],
   "source": [
    "print(\"Distance(sport1, sport2) = %.2f \" %distance(sport1, sport2, .1, 100))\n",
    "print(\"Distance(politics1, politics2) = %.2f \" %distance(politics1, politics2, .1, 100))\n",
    "print(\"Distance(sport1, politics2) = %.2f \" %distance(sport1, politics2, .1, 100))\n",
    "print(\"Distance(politics1, sport2) = %.2f \" %distance(politics1, sport2, .1, 100))"
   ]
  },
  {
   "cell_type": "markdown",
   "metadata": {},
   "source": [
    "Influence of $\\lambda$ and the number of iterations: those parameters have to be tuned carefully depending on the type of documents we are dealing with."
   ]
  },
  {
   "cell_type": "code",
   "execution_count": 310,
   "metadata": {
    "collapsed": false
   },
   "outputs": [
    {
     "data": {
      "image/png": "[encoded data removed]",
      "text/plain": [
       "<matplotlib.figure.Figure at 0x341a4e4a8>"
      ]
     },
     "metadata": {},
     "output_type": "display_data"
    },
    {
     "data": {
      "text/plain": [
       "array([[        nan,         nan,         nan,         nan],\n",
       "       [ 1.75610757,  1.87550865,  2.0706795 ,  2.19109015],\n",
       "       [ 1.87014864,  1.91471882,  2.09857907,  2.23186783],\n",
       "       [ 1.89536766,  1.92954976,  2.11260899,  2.24889113],\n",
       "       [ 1.96940158,  2.01527587,  2.19295802,  2.33311524],\n",
       "       [ 2.42005659,  2.48045342,  2.59549886,  2.69822563],\n",
       "       [ 3.20426141,  3.33592747,  3.35227415,  3.35371376],\n",
       "       [ 3.39894874,  3.53302576,  3.52582032,  3.48729884],\n",
       "       [ 3.43047726,  3.56879408,  3.55798882,  3.50760637],\n",
       "       [ 3.43852182,  3.57845482,  3.56720107,  3.51309063]])"
      ]
     },
     "execution_count": 310,
     "metadata": {},
     "output_type": "execute_result"
    }
   ],
   "source": [
    "lambda_list = np.logspace(-2,2,10)\n",
    "niter_list = [10, 50, 100, 300]\n",
    "plt.figure(figsize = (16,12))\n",
    "    \n",
    "for it in range(len(niter_list)):\n",
    "    niter = niter_list[it]\n",
    "    results = np.zeros([len(lambda_list), 4])\n",
    "\n",
    "    for i in range(len(lambda_list)):\n",
    "        lambd = lambda_list[i]\n",
    "        results[i, 0] =  distance(sport1, sport2, lambd, niter)\n",
    "        results[i, 1] =  distance(politics1, politics2, lambd, niter)\n",
    "        results[i, 2] =  distance(sport1, politics2, lambd, niter)\n",
    "        results[i, 3] =  distance(politics1, sport2, lambd, niter)\n",
    "    \n",
    "    plt.subplot(2,2,it + 1)\n",
    "    plt.plot(results[:, 0] , color = 'red')\n",
    "    plt.plot(results[:, 1] , color = 'blue')\n",
    "    plt.plot(results[:, 2] , 'r--', color = 'black')\n",
    "    plt.plot(results[:, 3] , 'r-.', color = 'black')\n",
    "    plt.xticks(np.arange(10), np.around(lambda_list, 2))\n",
    "    plt.xlabel(\"$\\lambda$\")\n",
    "    plt.ylabel(\"Distance\")\n",
    "    plt.title(\"Number of iterations: %d\" %niter)\n",
    "    plt.legend(['sport1 - sport2', 'politics1 - politics2', 'sport1 - politics2', 'politics1 - sport2'], loc=4)\n",
    "\n",
    "plt.show()\n",
    "results"
   ]
  },
  {
   "cell_type": "markdown",
   "metadata": {},
   "source": [
    "__Supervised learning : Text classification__\n",
    "\n",
    "Run some supervised learning tests with the Reuters dataset: the documents are labelled with one category. Load the train test:"
   ]
  },
  {
   "cell_type": "code",
   "execution_count": 25,
   "metadata": {
    "collapsed": false
   },
   "outputs": [],
   "source": [
    "reuters_train = []\n",
    "with open(\"data/reuters_train.txt\") as f:\n",
    "    for new in f:\n",
    "        category, left = new.split(\"\\t\")\n",
    "        text = left.split(\" reuter\")[0]\n",
    "        reuters_train = reuters_train + [(category, text)]"
   ]
  },
  {
   "cell_type": "markdown",
   "metadata": {},
   "source": [
    "Test a new sample (labelled as \"trade\"). This may take approximately 1 minute."
   ]
  },
  {
   "cell_type": "code",
   "execution_count": 274,
   "metadata": {
    "collapsed": false
   },
   "outputs": [
    {
     "ename": "KeyboardInterrupt",
     "evalue": "",
     "output_type": "error",
     "traceback": [
      "\u001b[0;31m---------------------------------------------------------------------------\u001b[0m",
      "\u001b[0;31mKeyboardInterrupt\u001b[0m                         Traceback (most recent call last)",
      "\u001b[0;32m<ipython-input-274-eb712341bdfb>\u001b[0m in \u001b[0;36m<module>\u001b[0;34m()\u001b[0m\n\u001b[0;32m----> 1\u001b[0;31m \u001b[0mget_ipython\u001b[0m\u001b[0;34m(\u001b[0m\u001b[0;34m)\u001b[0m\u001b[0;34m.\u001b[0m\u001b[0mrun_cell_magic\u001b[0m\u001b[0;34m(\u001b[0m\u001b[0;34m'time'\u001b[0m\u001b[0;34m,\u001b[0m \u001b[0;34m''\u001b[0m\u001b[0;34m,\u001b[0m \u001b[0;34m'test = \"asian exporters fear damage from japan rift mounting trade friction between the and japan has raised fears among many asia exporting nations that the row could inflict far reaching economic damage businessmen and officials said they told reuter correspondents asian capitals move against japan might boost protectionist sentiment the and lead curbs american imports their products but some exporters said that while the conflict would hurt them the long run the short term tokyo loss might their gain the has said will impose mln dlrs tariffs imports japanese electronics goods april retaliation for japan alleged failure stick pact not sell semiconductors world\"\\ndistances = []\\nfor i in range(len(reuters_train)):\\n    category, text = reuters_train[i]\\n    distances = distances + [(category, distance(test, text, .1, 1))]\\n    \\ndistances.sort(key=lambda x: x[1])\\nprint(\"Closest neighbors:\")\\ndistances[:5]'\u001b[0m\u001b[0;34m)\u001b[0m\u001b[0;34m\u001b[0m\u001b[0m\n\u001b[0m",
      "\u001b[0;32m//anaconda/lib/python3.5/site-packages/IPython/core/interactiveshell.py\u001b[0m in \u001b[0;36mrun_cell_magic\u001b[0;34m(self, magic_name, line, cell)\u001b[0m\n\u001b[1;32m   2118\u001b[0m             \u001b[0mmagic_arg_s\u001b[0m \u001b[0;34m=\u001b[0m \u001b[0mself\u001b[0m\u001b[0;34m.\u001b[0m\u001b[0mvar_expand\u001b[0m\u001b[0;34m(\u001b[0m\u001b[0mline\u001b[0m\u001b[0;34m,\u001b[0m \u001b[0mstack_depth\u001b[0m\u001b[0;34m)\u001b[0m\u001b[0;34m\u001b[0m\u001b[0m\n\u001b[1;32m   2119\u001b[0m             \u001b[0;32mwith\u001b[0m \u001b[0mself\u001b[0m\u001b[0;34m.\u001b[0m\u001b[0mbuiltin_trap\u001b[0m\u001b[0;34m:\u001b[0m\u001b[0;34m\u001b[0m\u001b[0m\n\u001b[0;32m-> 2120\u001b[0;31m                 \u001b[0mresult\u001b[0m \u001b[0;34m=\u001b[0m \u001b[0mfn\u001b[0m\u001b[0;34m(\u001b[0m\u001b[0mmagic_arg_s\u001b[0m\u001b[0;34m,\u001b[0m \u001b[0mcell\u001b[0m\u001b[0;34m)\u001b[0m\u001b[0;34m\u001b[0m\u001b[0m\n\u001b[0m\u001b[1;32m   2121\u001b[0m             \u001b[0;32mreturn\u001b[0m \u001b[0mresult\u001b[0m\u001b[0;34m\u001b[0m\u001b[0m\n\u001b[1;32m   2122\u001b[0m \u001b[0;34m\u001b[0m\u001b[0m\n",
      "\u001b[0;32m<decorator-gen-60>\u001b[0m in \u001b[0;36mtime\u001b[0;34m(self, line, cell, local_ns)\u001b[0m\n",
      "\u001b[0;32m//anaconda/lib/python3.5/site-packages/IPython/core/magic.py\u001b[0m in \u001b[0;36m<lambda>\u001b[0;34m(f, *a, **k)\u001b[0m\n\u001b[1;32m    191\u001b[0m     \u001b[0;31m# but it's overkill for just that one bit of state.\u001b[0m\u001b[0;34m\u001b[0m\u001b[0;34m\u001b[0m\u001b[0m\n\u001b[1;32m    192\u001b[0m     \u001b[0;32mdef\u001b[0m \u001b[0mmagic_deco\u001b[0m\u001b[0;34m(\u001b[0m\u001b[0marg\u001b[0m\u001b[0;34m)\u001b[0m\u001b[0;34m:\u001b[0m\u001b[0;34m\u001b[0m\u001b[0m\n\u001b[0;32m--> 193\u001b[0;31m         \u001b[0mcall\u001b[0m \u001b[0;34m=\u001b[0m \u001b[0;32mlambda\u001b[0m \u001b[0mf\u001b[0m\u001b[0;34m,\u001b[0m \u001b[0;34m*\u001b[0m\u001b[0ma\u001b[0m\u001b[0;34m,\u001b[0m \u001b[0;34m**\u001b[0m\u001b[0mk\u001b[0m\u001b[0;34m:\u001b[0m \u001b[0mf\u001b[0m\u001b[0;34m(\u001b[0m\u001b[0;34m*\u001b[0m\u001b[0ma\u001b[0m\u001b[0;34m,\u001b[0m \u001b[0;34m**\u001b[0m\u001b[0mk\u001b[0m\u001b[0;34m)\u001b[0m\u001b[0;34m\u001b[0m\u001b[0m\n\u001b[0m\u001b[1;32m    194\u001b[0m \u001b[0;34m\u001b[0m\u001b[0m\n\u001b[1;32m    195\u001b[0m         \u001b[0;32mif\u001b[0m \u001b[0mcallable\u001b[0m\u001b[0;34m(\u001b[0m\u001b[0marg\u001b[0m\u001b[0;34m)\u001b[0m\u001b[0;34m:\u001b[0m\u001b[0;34m\u001b[0m\u001b[0m\n",
      "\u001b[0;32m//anaconda/lib/python3.5/site-packages/IPython/core/magics/execution.py\u001b[0m in \u001b[0;36mtime\u001b[0;34m(self, line, cell, local_ns)\u001b[0m\n\u001b[1;32m   1175\u001b[0m         \u001b[0;32melse\u001b[0m\u001b[0;34m:\u001b[0m\u001b[0;34m\u001b[0m\u001b[0m\n\u001b[1;32m   1176\u001b[0m             \u001b[0mst\u001b[0m \u001b[0;34m=\u001b[0m \u001b[0mclock2\u001b[0m\u001b[0;34m(\u001b[0m\u001b[0;34m)\u001b[0m\u001b[0;34m\u001b[0m\u001b[0m\n\u001b[0;32m-> 1177\u001b[0;31m             \u001b[0mexec\u001b[0m\u001b[0;34m(\u001b[0m\u001b[0mcode\u001b[0m\u001b[0;34m,\u001b[0m \u001b[0mglob\u001b[0m\u001b[0;34m,\u001b[0m \u001b[0mlocal_ns\u001b[0m\u001b[0;34m)\u001b[0m\u001b[0;34m\u001b[0m\u001b[0m\n\u001b[0m\u001b[1;32m   1178\u001b[0m             \u001b[0mend\u001b[0m \u001b[0;34m=\u001b[0m \u001b[0mclock2\u001b[0m\u001b[0;34m(\u001b[0m\u001b[0;34m)\u001b[0m\u001b[0;34m\u001b[0m\u001b[0m\n\u001b[1;32m   1179\u001b[0m             \u001b[0mout\u001b[0m \u001b[0;34m=\u001b[0m \u001b[0;32mNone\u001b[0m\u001b[0;34m\u001b[0m\u001b[0m\n",
      "\u001b[0;32m<timed exec>\u001b[0m in \u001b[0;36m<module>\u001b[0;34m()\u001b[0m\n",
      "\u001b[0;32m<ipython-input-138-ab74f8500d9c>\u001b[0m in \u001b[0;36mdistance\u001b[0;34m(d1, d2, gamma, niter, most_common, verbose)\u001b[0m\n\u001b[1;32m    104\u001b[0m     \u001b[0mtm\u001b[0m \u001b[0;34m=\u001b[0m \u001b[0mtime\u001b[0m\u001b[0;34m(\u001b[0m\u001b[0;34m)\u001b[0m\u001b[0;34m\u001b[0m\u001b[0m\n\u001b[1;32m    105\u001b[0m     \u001b[0;31m# calculate pi and d\u001b[0m\u001b[0;34m\u001b[0m\u001b[0;34m\u001b[0m\u001b[0m\n\u001b[0;32m--> 106\u001b[0;31m     \u001b[0mPi\u001b[0m \u001b[0;34m=\u001b[0m \u001b[0mnp\u001b[0m\u001b[0;34m.\u001b[0m\u001b[0mdot\u001b[0m\u001b[0;34m(\u001b[0m\u001b[0mnp\u001b[0m\u001b[0;34m.\u001b[0m\u001b[0mdot\u001b[0m\u001b[0;34m(\u001b[0m\u001b[0mnp\u001b[0m\u001b[0;34m.\u001b[0m\u001b[0mdiag\u001b[0m\u001b[0;34m(\u001b[0m\u001b[0ma\u001b[0m\u001b[0;34m)\u001b[0m\u001b[0;34m,\u001b[0m\u001b[0mxi\u001b[0m\u001b[0;34m)\u001b[0m\u001b[0;34m,\u001b[0m\u001b[0mnp\u001b[0m\u001b[0;34m.\u001b[0m\u001b[0mdiag\u001b[0m\u001b[0;34m(\u001b[0m\u001b[0mb\u001b[0m\u001b[0;34m)\u001b[0m\u001b[0;34m)\u001b[0m\u001b[0;34m\u001b[0m\u001b[0m\n\u001b[0m\u001b[1;32m    107\u001b[0m     \u001b[0md\u001b[0m \u001b[0;34m=\u001b[0m \u001b[0mnp\u001b[0m\u001b[0;34m.\u001b[0m\u001b[0msum\u001b[0m\u001b[0;34m(\u001b[0m\u001b[0mC\u001b[0m \u001b[0;34m*\u001b[0m \u001b[0mPi\u001b[0m\u001b[0;34m)\u001b[0m\u001b[0;34m\u001b[0m\u001b[0m\n\u001b[1;32m    108\u001b[0m \u001b[0;34m\u001b[0m\u001b[0m\n",
      "\u001b[0;31mKeyboardInterrupt\u001b[0m: "
     ]
    }
   ],
   "source": [
    "%%time\n",
    "test = \"asian exporters fear damage from japan rift mounting trade friction between the and japan has raised fears among many asia exporting nations that the row could inflict far reaching economic damage businessmen and officials said they told reuter correspondents asian capitals move against japan might boost protectionist sentiment the and lead curbs american imports their products but some exporters said that while the conflict would hurt them the long run the short term tokyo loss might their gain the has said will impose mln dlrs tariffs imports japanese electronics goods april retaliation for japan alleged failure stick pact not sell semiconductors world\"\n",
    "distances = []\n",
    "for i in range(len(reuters_train)):\n",
    "    category, text = reuters_train[i]\n",
    "    distances = distances + [(category, distance(test, text, .1, 10))]\n",
    "    \n",
    "distances.sort(key=lambda x: x[1])\n",
    "print(\"Closest neighbors:\")\n",
    "distances[:5]"
   ]
  },
  {
   "cell_type": "markdown",
   "metadata": {
    "collapsed": true
   },
   "source": [
    "__Supervised learning : Sentiment analysis__\n",
    "\n",
    "Run some supervised learning tests with the Twitter dataset: each tweet is labelled as positive, neutral or negative."
   ]
  },
  {
   "cell_type": "code",
   "execution_count": 283,
   "metadata": {
    "collapsed": false
   },
   "outputs": [],
   "source": [
    "twitter = []\n",
    "with open(\"data/twitter.txt\") as f:\n",
    "    for new in f:\n",
    "        category, left = new.split(\"\\\"\\t\")\n",
    "        category = category[1:]\n",
    "        text = left[:-2]\n",
    "        # remove unknown words\n",
    "        text_no_digit = ''.join([c.lower() for c in text if not c.isdigit()])\n",
    "        text_vect = CountVectorizer().build_tokenizer()(text_no_digit)\n",
    "        text_clean = [w for w in text_vect if w not in stop_words]\n",
    "        delete = False\n",
    "        for i in range(len(text_clean)):\n",
    "            try:\n",
    "                w2v_model[text_clean[i]]\n",
    "            except KeyError:\n",
    "                delete = True\n",
    "        if not delete:\n",
    "            twitter = twitter + [(category, text)]\n",
    "            \n",
    "np.random.shuffle(twitter)\n",
    "N = len(twitter)\n",
    "twitter_train = twitter[:3*N//4]\n",
    "twitter_test  = twitter[3*N//4:]"
   ]
  },
  {
   "cell_type": "markdown",
   "metadata": {},
   "source": [
    "Test a new sample."
   ]
  },
  {
   "cell_type": "code",
   "execution_count": 285,
   "metadata": {
    "collapsed": false
   },
   "outputs": [
    {
     "name": "stdout",
     "output_type": "stream",
     "text": [
      "('neutral', ' night  twitter')\n",
      "Closest neighbors:\n",
      "CPU times: user 597 ms, sys: 6.22 ms, total: 603 ms\n",
      "Wall time: 608 ms\n"
     ]
    }
   ],
   "source": [
    "%%time\n",
    "print(twitter_test[1])\n",
    "test = twitter_test[1][1]\n",
    "\n",
    "distances = []\n",
    "for i in range(len(twitter_train)):\n",
    "    category, text = twitter_train[i]\n",
    "    distances = distances + [(category, distance(text, test, 1, 10))]\n",
    "    \n",
    "distances.sort(key=lambda x: x[1])\n",
    "print(\"Closest neighbors:\")\n",
    "distances[:5]"
   ]
  },
  {
   "cell_type": "markdown",
   "metadata": {},
   "source": [
    "Calibrate the number of iterations"
   ]
  },
  {
   "cell_type": "code",
   "execution_count": 305,
   "metadata": {
    "collapsed": false
   },
   "outputs": [
    {
     "name": "stdout",
     "output_type": "stream",
     "text": [
      "Setting niter to 80\n",
      "Setting niter to 100\n"
     ]
    },
    {
     "ename": "KeyboardInterrupt",
     "evalue": "",
     "output_type": "error",
     "traceback": [
      "\u001b[0;31m---------------------------------------------------------------------------\u001b[0m",
      "\u001b[0;31mKeyboardInterrupt\u001b[0m                         Traceback (most recent call last)",
      "\u001b[0;32m<ipython-input-305-313733d502fa>\u001b[0m in \u001b[0;36m<module>\u001b[0;34m()\u001b[0m\n\u001b[0;32m----> 1\u001b[0;31m \u001b[0mget_ipython\u001b[0m\u001b[0;34m(\u001b[0m\u001b[0;34m)\u001b[0m\u001b[0;34m.\u001b[0m\u001b[0mrun_cell_magic\u001b[0m\u001b[0;34m(\u001b[0m\u001b[0;34m'time'\u001b[0m\u001b[0;34m,\u001b[0m \u001b[0;34m''\u001b[0m\u001b[0;34m,\u001b[0m \u001b[0;34m'iteration_list = [80, 100]\\nresults = []\\n\\nfor i in range(len(iteration_list)):\\n    niter = iteration_list[i]\\n    print(\"Setting niter to %d\" %niter)\\n    err = 0.\\n    for j in range(len(twitter_test)):\\n        category_test, text_test = twitter_test[j]\\n        d_min = np.float(\\'inf\\')                    \\n        for k in range(len(twitter_train)):\\n            category_train, text_train = twitter_train[k]\\n            try:\\n                d = distance(text_test, text_train, 1, niter)\\n            except ValueError:\\n                d = np.float(\\'inf\\')\\n            if d < d_min and d != 0:\\n                d_min = d\\n                category_min = category_train\\n\\n        if category_min != category_test:\\n            err += 1.\\n    results = results + [err / len(twitter_test)]'\u001b[0m\u001b[0;34m)\u001b[0m\u001b[0;34m\u001b[0m\u001b[0m\n\u001b[0m",
      "\u001b[0;32m//anaconda/lib/python3.5/site-packages/IPython/core/interactiveshell.py\u001b[0m in \u001b[0;36mrun_cell_magic\u001b[0;34m(self, magic_name, line, cell)\u001b[0m\n\u001b[1;32m   2118\u001b[0m             \u001b[0mmagic_arg_s\u001b[0m \u001b[0;34m=\u001b[0m \u001b[0mself\u001b[0m\u001b[0;34m.\u001b[0m\u001b[0mvar_expand\u001b[0m\u001b[0;34m(\u001b[0m\u001b[0mline\u001b[0m\u001b[0;34m,\u001b[0m \u001b[0mstack_depth\u001b[0m\u001b[0;34m)\u001b[0m\u001b[0;34m\u001b[0m\u001b[0m\n\u001b[1;32m   2119\u001b[0m             \u001b[0;32mwith\u001b[0m \u001b[0mself\u001b[0m\u001b[0;34m.\u001b[0m\u001b[0mbuiltin_trap\u001b[0m\u001b[0;34m:\u001b[0m\u001b[0;34m\u001b[0m\u001b[0m\n\u001b[0;32m-> 2120\u001b[0;31m                 \u001b[0mresult\u001b[0m \u001b[0;34m=\u001b[0m \u001b[0mfn\u001b[0m\u001b[0;34m(\u001b[0m\u001b[0mmagic_arg_s\u001b[0m\u001b[0;34m,\u001b[0m \u001b[0mcell\u001b[0m\u001b[0;34m)\u001b[0m\u001b[0;34m\u001b[0m\u001b[0m\n\u001b[0m\u001b[1;32m   2121\u001b[0m             \u001b[0;32mreturn\u001b[0m \u001b[0mresult\u001b[0m\u001b[0;34m\u001b[0m\u001b[0m\n\u001b[1;32m   2122\u001b[0m \u001b[0;34m\u001b[0m\u001b[0m\n",
      "\u001b[0;32m<decorator-gen-60>\u001b[0m in \u001b[0;36mtime\u001b[0;34m(self, line, cell, local_ns)\u001b[0m\n",
      "\u001b[0;32m//anaconda/lib/python3.5/site-packages/IPython/core/magic.py\u001b[0m in \u001b[0;36m<lambda>\u001b[0;34m(f, *a, **k)\u001b[0m\n\u001b[1;32m    191\u001b[0m     \u001b[0;31m# but it's overkill for just that one bit of state.\u001b[0m\u001b[0;34m\u001b[0m\u001b[0;34m\u001b[0m\u001b[0m\n\u001b[1;32m    192\u001b[0m     \u001b[0;32mdef\u001b[0m \u001b[0mmagic_deco\u001b[0m\u001b[0;34m(\u001b[0m\u001b[0marg\u001b[0m\u001b[0;34m)\u001b[0m\u001b[0;34m:\u001b[0m\u001b[0;34m\u001b[0m\u001b[0m\n\u001b[0;32m--> 193\u001b[0;31m         \u001b[0mcall\u001b[0m \u001b[0;34m=\u001b[0m \u001b[0;32mlambda\u001b[0m \u001b[0mf\u001b[0m\u001b[0;34m,\u001b[0m \u001b[0;34m*\u001b[0m\u001b[0ma\u001b[0m\u001b[0;34m,\u001b[0m \u001b[0;34m**\u001b[0m\u001b[0mk\u001b[0m\u001b[0;34m:\u001b[0m \u001b[0mf\u001b[0m\u001b[0;34m(\u001b[0m\u001b[0;34m*\u001b[0m\u001b[0ma\u001b[0m\u001b[0;34m,\u001b[0m \u001b[0;34m**\u001b[0m\u001b[0mk\u001b[0m\u001b[0;34m)\u001b[0m\u001b[0;34m\u001b[0m\u001b[0m\n\u001b[0m\u001b[1;32m    194\u001b[0m \u001b[0;34m\u001b[0m\u001b[0m\n\u001b[1;32m    195\u001b[0m         \u001b[0;32mif\u001b[0m \u001b[0mcallable\u001b[0m\u001b[0;34m(\u001b[0m\u001b[0marg\u001b[0m\u001b[0;34m)\u001b[0m\u001b[0;34m:\u001b[0m\u001b[0;34m\u001b[0m\u001b[0m\n",
      "\u001b[0;32m//anaconda/lib/python3.5/site-packages/IPython/core/magics/execution.py\u001b[0m in \u001b[0;36mtime\u001b[0;34m(self, line, cell, local_ns)\u001b[0m\n\u001b[1;32m   1175\u001b[0m         \u001b[0;32melse\u001b[0m\u001b[0;34m:\u001b[0m\u001b[0;34m\u001b[0m\u001b[0m\n\u001b[1;32m   1176\u001b[0m             \u001b[0mst\u001b[0m \u001b[0;34m=\u001b[0m \u001b[0mclock2\u001b[0m\u001b[0;34m(\u001b[0m\u001b[0;34m)\u001b[0m\u001b[0;34m\u001b[0m\u001b[0m\n\u001b[0;32m-> 1177\u001b[0;31m             \u001b[0mexec\u001b[0m\u001b[0;34m(\u001b[0m\u001b[0mcode\u001b[0m\u001b[0;34m,\u001b[0m \u001b[0mglob\u001b[0m\u001b[0;34m,\u001b[0m \u001b[0mlocal_ns\u001b[0m\u001b[0;34m)\u001b[0m\u001b[0;34m\u001b[0m\u001b[0m\n\u001b[0m\u001b[1;32m   1178\u001b[0m             \u001b[0mend\u001b[0m \u001b[0;34m=\u001b[0m \u001b[0mclock2\u001b[0m\u001b[0;34m(\u001b[0m\u001b[0;34m)\u001b[0m\u001b[0;34m\u001b[0m\u001b[0m\n\u001b[1;32m   1179\u001b[0m             \u001b[0mout\u001b[0m \u001b[0;34m=\u001b[0m \u001b[0;32mNone\u001b[0m\u001b[0;34m\u001b[0m\u001b[0m\n",
      "\u001b[0;32m<timed exec>\u001b[0m in \u001b[0;36m<module>\u001b[0;34m()\u001b[0m\n",
      "\u001b[0;32m<ipython-input-138-ab74f8500d9c>\u001b[0m in \u001b[0;36mdistance\u001b[0;34m(d1, d2, gamma, niter, most_common, verbose)\u001b[0m\n\u001b[1;32m     96\u001b[0m     \u001b[0;32mfor\u001b[0m \u001b[0mi\u001b[0m \u001b[0;32min\u001b[0m \u001b[0mrange\u001b[0m\u001b[0;34m(\u001b[0m\u001b[0mniter\u001b[0m\u001b[0;34m)\u001b[0m\u001b[0;34m:\u001b[0m\u001b[0;34m\u001b[0m\u001b[0m\n\u001b[1;32m     97\u001b[0m         \u001b[0ma\u001b[0m \u001b[0;34m=\u001b[0m \u001b[0mp\u001b[0m\u001b[0;34m/\u001b[0m\u001b[0;34m(\u001b[0m\u001b[0mnp\u001b[0m\u001b[0;34m.\u001b[0m\u001b[0mdot\u001b[0m\u001b[0;34m(\u001b[0m\u001b[0mxi\u001b[0m\u001b[0;34m,\u001b[0m\u001b[0mb\u001b[0m\u001b[0;34m)\u001b[0m\u001b[0;34m)\u001b[0m\u001b[0;34m\u001b[0m\u001b[0m\n\u001b[0;32m---> 98\u001b[0;31m         \u001b[0mErr_q\u001b[0m \u001b[0;34m=\u001b[0m \u001b[0mErr_q\u001b[0m \u001b[0;34m+\u001b[0m \u001b[0;34m[\u001b[0m\u001b[0mlinalg\u001b[0m\u001b[0;34m.\u001b[0m\u001b[0mnorm\u001b[0m\u001b[0;34m(\u001b[0m\u001b[0mb\u001b[0m\u001b[0;34m*\u001b[0m\u001b[0mnp\u001b[0m\u001b[0;34m.\u001b[0m\u001b[0mdot\u001b[0m\u001b[0;34m(\u001b[0m\u001b[0mxi\u001b[0m\u001b[0;34m,\u001b[0m\u001b[0ma\u001b[0m\u001b[0;34m)\u001b[0m \u001b[0;34m-\u001b[0m \u001b[0mq\u001b[0m\u001b[0;34m)\u001b[0m\u001b[0;34m/\u001b[0m\u001b[0mlinalg\u001b[0m\u001b[0;34m.\u001b[0m\u001b[0mnorm\u001b[0m\u001b[0;34m(\u001b[0m\u001b[0mq\u001b[0m\u001b[0;34m)\u001b[0m\u001b[0;34m]\u001b[0m\u001b[0;34m\u001b[0m\u001b[0m\n\u001b[0m\u001b[1;32m     99\u001b[0m         \u001b[0mb\u001b[0m \u001b[0;34m=\u001b[0m \u001b[0mq\u001b[0m \u001b[0;34m/\u001b[0m\u001b[0;34m(\u001b[0m\u001b[0mnp\u001b[0m\u001b[0;34m.\u001b[0m\u001b[0mdot\u001b[0m\u001b[0;34m(\u001b[0m\u001b[0mnp\u001b[0m\u001b[0;34m.\u001b[0m\u001b[0mtranspose\u001b[0m\u001b[0;34m(\u001b[0m\u001b[0mxi\u001b[0m\u001b[0;34m)\u001b[0m\u001b[0;34m,\u001b[0m\u001b[0ma\u001b[0m\u001b[0;34m)\u001b[0m\u001b[0;34m)\u001b[0m\u001b[0;34m\u001b[0m\u001b[0m\n\u001b[1;32m    100\u001b[0m         \u001b[0mErr_p\u001b[0m \u001b[0;34m=\u001b[0m \u001b[0mErr_p\u001b[0m \u001b[0;34m+\u001b[0m \u001b[0;34m[\u001b[0m\u001b[0mlinalg\u001b[0m\u001b[0;34m.\u001b[0m\u001b[0mnorm\u001b[0m\u001b[0;34m(\u001b[0m\u001b[0ma\u001b[0m\u001b[0;34m*\u001b[0m\u001b[0mnp\u001b[0m\u001b[0;34m.\u001b[0m\u001b[0mdot\u001b[0m\u001b[0;34m(\u001b[0m\u001b[0mnp\u001b[0m\u001b[0;34m.\u001b[0m\u001b[0mtranspose\u001b[0m\u001b[0;34m(\u001b[0m\u001b[0mxi\u001b[0m\u001b[0;34m)\u001b[0m\u001b[0;34m,\u001b[0m\u001b[0mb\u001b[0m\u001b[0;34m)\u001b[0m \u001b[0;34m-\u001b[0m \u001b[0mp\u001b[0m\u001b[0;34m)\u001b[0m\u001b[0;34m/\u001b[0m\u001b[0mlinalg\u001b[0m\u001b[0;34m.\u001b[0m\u001b[0mnorm\u001b[0m\u001b[0;34m(\u001b[0m\u001b[0mp\u001b[0m\u001b[0;34m)\u001b[0m\u001b[0;34m]\u001b[0m\u001b[0;34m\u001b[0m\u001b[0m\n",
      "\u001b[0;32m//anaconda/lib/python3.5/site-packages/numpy/linalg/linalg.py\u001b[0m in \u001b[0;36mnorm\u001b[0;34m(x, ord, axis, keepdims)\u001b[0m\n\u001b[1;32m   2127\u001b[0m                 \u001b[0msqnorm\u001b[0m \u001b[0;34m=\u001b[0m \u001b[0mdot\u001b[0m\u001b[0;34m(\u001b[0m\u001b[0mx\u001b[0m\u001b[0;34m.\u001b[0m\u001b[0mreal\u001b[0m\u001b[0;34m,\u001b[0m \u001b[0mx\u001b[0m\u001b[0;34m.\u001b[0m\u001b[0mreal\u001b[0m\u001b[0;34m)\u001b[0m \u001b[0;34m+\u001b[0m \u001b[0mdot\u001b[0m\u001b[0;34m(\u001b[0m\u001b[0mx\u001b[0m\u001b[0;34m.\u001b[0m\u001b[0mimag\u001b[0m\u001b[0;34m,\u001b[0m \u001b[0mx\u001b[0m\u001b[0;34m.\u001b[0m\u001b[0mimag\u001b[0m\u001b[0;34m)\u001b[0m\u001b[0;34m\u001b[0m\u001b[0m\n\u001b[1;32m   2128\u001b[0m             \u001b[0;32melse\u001b[0m\u001b[0;34m:\u001b[0m\u001b[0;34m\u001b[0m\u001b[0m\n\u001b[0;32m-> 2129\u001b[0;31m                 \u001b[0msqnorm\u001b[0m \u001b[0;34m=\u001b[0m \u001b[0mdot\u001b[0m\u001b[0;34m(\u001b[0m\u001b[0mx\u001b[0m\u001b[0;34m,\u001b[0m \u001b[0mx\u001b[0m\u001b[0;34m)\u001b[0m\u001b[0;34m\u001b[0m\u001b[0m\n\u001b[0m\u001b[1;32m   2130\u001b[0m             \u001b[0mret\u001b[0m \u001b[0;34m=\u001b[0m \u001b[0msqrt\u001b[0m\u001b[0;34m(\u001b[0m\u001b[0msqnorm\u001b[0m\u001b[0;34m)\u001b[0m\u001b[0;34m\u001b[0m\u001b[0m\n\u001b[1;32m   2131\u001b[0m             \u001b[0;32mif\u001b[0m \u001b[0mkeepdims\u001b[0m\u001b[0;34m:\u001b[0m\u001b[0;34m\u001b[0m\u001b[0m\n",
      "\u001b[0;31mKeyboardInterrupt\u001b[0m: "
     ]
    }
   ],
   "source": [
    "%%time\n",
    "iteration_list = [50]\n",
    "results = []\n",
    "\n",
    "for i in range(len(iteration_list)):\n",
    "    niter = iteration_list[i]\n",
    "    print(\"Setting niter to %d\" %niter)\n",
    "    err = 0.\n",
    "    for j in range(len(twitter_test)):\n",
    "        category_test, text_test = twitter_test[j]\n",
    "        d_min = np.float('inf')                    \n",
    "        for k in range(len(twitter_train)):\n",
    "            category_train, text_train = twitter_train[k]\n",
    "            try:\n",
    "                d = distance(text_test, text_train, 1, niter)\n",
    "            except ValueError:\n",
    "                d = np.float('inf')\n",
    "            if d < d_min and d != 0:\n",
    "                d_min = d\n",
    "                category_min = category_train\n",
    "\n",
    "        if category_min != category_test:\n",
    "            err += 1.\n",
    "    results = results + [err / len(twitter_test)]"
   ]
  },
  {
   "cell_type": "markdown",
   "metadata": {},
   "source": [
    "Calibrate $\\lambda$ on the 1-NN algorithm. "
   ]
  },
  {
   "cell_type": "code",
   "execution_count": 289,
   "metadata": {
    "collapsed": false
   },
   "outputs": [
    {
     "name": "stdout",
     "output_type": "stream",
     "text": [
      "Setting lambda to 0.10\n",
      "Setting lambda to 0.17\n",
      "Setting lambda to 0.28\n",
      "Setting lambda to 0.46\n",
      "Setting lambda to 0.77\n",
      "Setting lambda to 1.29\n",
      "Setting lambda to 2.15\n",
      "Setting lambda to 3.59\n",
      "Setting lambda to 5.99\n",
      "Setting lambda to 10.00\n",
      "CPU times: user 1h 44min 34s, sys: 46.7 s, total: 1h 45min 21s\n",
      "Wall time: 1h 48min 17s\n"
     ]
    }
   ],
   "source": [
    "%%time\n",
    "lambda_list = np.logspace(-1,1,10)\n",
    "niter = 50\n",
    "results = []\n",
    "\n",
    "for i in range(len(lambda_list)):\n",
    "    lambd = lambda_list[i]\n",
    "    print(\"Setting lambda to %.2f\" %lambd)\n",
    "    err = 0.\n",
    "    for j in range(len(twitter_test)):\n",
    "        category_test, text_test = twitter_test[j]\n",
    "        d_min = np.float('inf')                    \n",
    "        for k in range(len(twitter_train)):\n",
    "            category_train, text_train = twitter_train[k]\n",
    "            try:\n",
    "                d = distance(text_test, text_train, lambd, niter)\n",
    "            except ValueError:\n",
    "                d = np.float('inf')\n",
    "            if d < d_min and d != 0:\n",
    "                d_min = d\n",
    "                category_min = category_train\n",
    "\n",
    "        if category_min != category_test:\n",
    "            err += 1.\n",
    "    results = results + [err / len(twitter_test)]"
   ]
  },
  {
   "cell_type": "code",
   "execution_count": 296,
   "metadata": {
    "collapsed": false
   },
   "outputs": [
    {
     "data": {
      "image/png": "[encoded data removed]",
      "text/plain": [
       "<matplotlib.figure.Figure at 0x33d41f080>"
      ]
     },
     "metadata": {},
     "output_type": "display_data"
    },
    {
     "data": {
      "text/plain": [
       "[0.43804034582132567,\n",
       " 0.41786743515850144,\n",
       " 0.3919308357348703,\n",
       " 0.37175792507204614,\n",
       " 0.36023054755043227,\n",
       " 0.36023054755043227,\n",
       " 0.37175792507204614,\n",
       " 0.37175792507204614,\n",
       " 0.40057636887608067,\n",
       " 0.43515850144092216]"
      ]
     },
     "execution_count": 296,
     "metadata": {},
     "output_type": "execute_result"
    }
   ],
   "source": [
    "plt.figure(figsize = (8,6))\n",
    "plt.plot(results)\n",
    "plt.xticks(np.arange(10), np.around(lambda_list, 2))\n",
    "plt.xlabel(\"$\\lambda$\")\n",
    "plt.ylabel(\"Classification error\")\n",
    "plt.ylim([0.34, 0.45])\n",
    "plt.show()\n",
    "results"
   ]
  },
  {
   "cell_type": "markdown",
   "metadata": {},
   "source": [
    "__Unsupervised learning: text classification__"
   ]
  },
  {
   "cell_type": "markdown",
   "metadata": {},
   "source": [
    "Compute the distance matrix D."
   ]
  },
  {
   "cell_type": "code",
   "execution_count": 291,
   "metadata": {
    "collapsed": false
   },
   "outputs": [
    {
     "name": "stdout",
     "output_type": "stream",
     "text": [
      "Step i = 0\n"
     ]
    },
    {
     "ename": "ValueError",
     "evalue": "not enough values to unpack (expected 2, got 0)",
     "output_type": "error",
     "traceback": [
      "\u001b[0;31m---------------------------------------------------------------------------\u001b[0m",
      "\u001b[0;31mValueError\u001b[0m                                Traceback (most recent call last)",
      "\u001b[0;32m<ipython-input-291-7c37ab5f62d1>\u001b[0m in \u001b[0;36m<module>\u001b[0;34m()\u001b[0m\n\u001b[0;32m----> 1\u001b[0;31m \u001b[0mget_ipython\u001b[0m\u001b[0;34m(\u001b[0m\u001b[0;34m)\u001b[0m\u001b[0;34m.\u001b[0m\u001b[0mrun_cell_magic\u001b[0m\u001b[0;34m(\u001b[0m\u001b[0;34m'time'\u001b[0m\u001b[0;34m,\u001b[0m \u001b[0;34m''\u001b[0m\u001b[0;34m,\u001b[0m \u001b[0;34m'data = [e[1] for e in twitter]\\nN = len(data)\\nD_temp = np.zeros([N,N])\\n\\nfor i in range(N):\\n    if i % (N//10) == 0:\\n        print(\"Step i = %d\" %i)\\n    for j in range(i + 1, N):\\n        D_temp[i, j] =  distance(data[i], data[j], 1, 10)\\n        \\nD = D_temp + np.transpose(D_temp)\\n\\nimport pickle\\npickle.dump(D, open(\"D.p\", \\'wb\\'))'\u001b[0m\u001b[0;34m)\u001b[0m\u001b[0;34m\u001b[0m\u001b[0m\n\u001b[0m",
      "\u001b[0;32m//anaconda/lib/python3.5/site-packages/IPython/core/interactiveshell.py\u001b[0m in \u001b[0;36mrun_cell_magic\u001b[0;34m(self, magic_name, line, cell)\u001b[0m\n\u001b[1;32m   2118\u001b[0m             \u001b[0mmagic_arg_s\u001b[0m \u001b[0;34m=\u001b[0m \u001b[0mself\u001b[0m\u001b[0;34m.\u001b[0m\u001b[0mvar_expand\u001b[0m\u001b[0;34m(\u001b[0m\u001b[0mline\u001b[0m\u001b[0;34m,\u001b[0m \u001b[0mstack_depth\u001b[0m\u001b[0;34m)\u001b[0m\u001b[0;34m\u001b[0m\u001b[0m\n\u001b[1;32m   2119\u001b[0m             \u001b[0;32mwith\u001b[0m \u001b[0mself\u001b[0m\u001b[0;34m.\u001b[0m\u001b[0mbuiltin_trap\u001b[0m\u001b[0;34m:\u001b[0m\u001b[0;34m\u001b[0m\u001b[0m\n\u001b[0;32m-> 2120\u001b[0;31m                 \u001b[0mresult\u001b[0m \u001b[0;34m=\u001b[0m \u001b[0mfn\u001b[0m\u001b[0;34m(\u001b[0m\u001b[0mmagic_arg_s\u001b[0m\u001b[0;34m,\u001b[0m \u001b[0mcell\u001b[0m\u001b[0;34m)\u001b[0m\u001b[0;34m\u001b[0m\u001b[0m\n\u001b[0m\u001b[1;32m   2121\u001b[0m             \u001b[0;32mreturn\u001b[0m \u001b[0mresult\u001b[0m\u001b[0;34m\u001b[0m\u001b[0m\n\u001b[1;32m   2122\u001b[0m \u001b[0;34m\u001b[0m\u001b[0m\n",
      "\u001b[0;32m<decorator-gen-60>\u001b[0m in \u001b[0;36mtime\u001b[0;34m(self, line, cell, local_ns)\u001b[0m\n",
      "\u001b[0;32m//anaconda/lib/python3.5/site-packages/IPython/core/magic.py\u001b[0m in \u001b[0;36m<lambda>\u001b[0;34m(f, *a, **k)\u001b[0m\n\u001b[1;32m    191\u001b[0m     \u001b[0;31m# but it's overkill for just that one bit of state.\u001b[0m\u001b[0;34m\u001b[0m\u001b[0;34m\u001b[0m\u001b[0m\n\u001b[1;32m    192\u001b[0m     \u001b[0;32mdef\u001b[0m \u001b[0mmagic_deco\u001b[0m\u001b[0;34m(\u001b[0m\u001b[0marg\u001b[0m\u001b[0;34m)\u001b[0m\u001b[0;34m:\u001b[0m\u001b[0;34m\u001b[0m\u001b[0m\n\u001b[0;32m--> 193\u001b[0;31m         \u001b[0mcall\u001b[0m \u001b[0;34m=\u001b[0m \u001b[0;32mlambda\u001b[0m \u001b[0mf\u001b[0m\u001b[0;34m,\u001b[0m \u001b[0;34m*\u001b[0m\u001b[0ma\u001b[0m\u001b[0;34m,\u001b[0m \u001b[0;34m**\u001b[0m\u001b[0mk\u001b[0m\u001b[0;34m:\u001b[0m \u001b[0mf\u001b[0m\u001b[0;34m(\u001b[0m\u001b[0;34m*\u001b[0m\u001b[0ma\u001b[0m\u001b[0;34m,\u001b[0m \u001b[0;34m**\u001b[0m\u001b[0mk\u001b[0m\u001b[0;34m)\u001b[0m\u001b[0;34m\u001b[0m\u001b[0m\n\u001b[0m\u001b[1;32m    194\u001b[0m \u001b[0;34m\u001b[0m\u001b[0m\n\u001b[1;32m    195\u001b[0m         \u001b[0;32mif\u001b[0m \u001b[0mcallable\u001b[0m\u001b[0;34m(\u001b[0m\u001b[0marg\u001b[0m\u001b[0;34m)\u001b[0m\u001b[0;34m:\u001b[0m\u001b[0;34m\u001b[0m\u001b[0m\n",
      "\u001b[0;32m//anaconda/lib/python3.5/site-packages/IPython/core/magics/execution.py\u001b[0m in \u001b[0;36mtime\u001b[0;34m(self, line, cell, local_ns)\u001b[0m\n\u001b[1;32m   1175\u001b[0m         \u001b[0;32melse\u001b[0m\u001b[0;34m:\u001b[0m\u001b[0;34m\u001b[0m\u001b[0m\n\u001b[1;32m   1176\u001b[0m             \u001b[0mst\u001b[0m \u001b[0;34m=\u001b[0m \u001b[0mclock2\u001b[0m\u001b[0;34m(\u001b[0m\u001b[0;34m)\u001b[0m\u001b[0;34m\u001b[0m\u001b[0m\n\u001b[0;32m-> 1177\u001b[0;31m             \u001b[0mexec\u001b[0m\u001b[0;34m(\u001b[0m\u001b[0mcode\u001b[0m\u001b[0;34m,\u001b[0m \u001b[0mglob\u001b[0m\u001b[0;34m,\u001b[0m \u001b[0mlocal_ns\u001b[0m\u001b[0;34m)\u001b[0m\u001b[0;34m\u001b[0m\u001b[0m\n\u001b[0m\u001b[1;32m   1178\u001b[0m             \u001b[0mend\u001b[0m \u001b[0;34m=\u001b[0m \u001b[0mclock2\u001b[0m\u001b[0;34m(\u001b[0m\u001b[0;34m)\u001b[0m\u001b[0;34m\u001b[0m\u001b[0m\n\u001b[1;32m   1179\u001b[0m             \u001b[0mout\u001b[0m \u001b[0;34m=\u001b[0m \u001b[0;32mNone\u001b[0m\u001b[0;34m\u001b[0m\u001b[0m\n",
      "\u001b[0;32m<timed exec>\u001b[0m in \u001b[0;36m<module>\u001b[0;34m()\u001b[0m\n",
      "\u001b[0;32m<ipython-input-138-ab74f8500d9c>\u001b[0m in \u001b[0;36mdistance\u001b[0;34m(d1, d2, gamma, niter, most_common, verbose)\u001b[0m\n\u001b[1;32m     59\u001b[0m     \u001b[0md1_count\u001b[0m \u001b[0;34m=\u001b[0m \u001b[0mCounter\u001b[0m\u001b[0;34m(\u001b[0m\u001b[0msupport\u001b[0m\u001b[0;34m)\u001b[0m \u001b[0;34m+\u001b[0m \u001b[0;34m(\u001b[0m\u001b[0mCounter\u001b[0m\u001b[0;34m(\u001b[0m\u001b[0md1_ready\u001b[0m\u001b[0;34m)\u001b[0m\u001b[0;34m)\u001b[0m\u001b[0;34m\u001b[0m\u001b[0m\n\u001b[1;32m     60\u001b[0m     \u001b[0md2_count\u001b[0m \u001b[0;34m=\u001b[0m \u001b[0mCounter\u001b[0m\u001b[0;34m(\u001b[0m\u001b[0msupport\u001b[0m\u001b[0;34m)\u001b[0m \u001b[0;34m+\u001b[0m \u001b[0;34m(\u001b[0m\u001b[0mCounter\u001b[0m\u001b[0;34m(\u001b[0m\u001b[0md2_ready\u001b[0m\u001b[0;34m)\u001b[0m\u001b[0;34m)\u001b[0m\u001b[0;34m\u001b[0m\u001b[0m\n\u001b[0;32m---> 61\u001b[0;31m     \u001b[0mwords\u001b[0m\u001b[0;34m,\u001b[0m \u001b[0mp\u001b[0m \u001b[0;34m=\u001b[0m \u001b[0mzip\u001b[0m\u001b[0;34m(\u001b[0m\u001b[0;34m*\u001b[0m\u001b[0md1_count\u001b[0m\u001b[0;34m.\u001b[0m\u001b[0mitems\u001b[0m\u001b[0;34m(\u001b[0m\u001b[0;34m)\u001b[0m\u001b[0;34m)\u001b[0m\u001b[0;34m\u001b[0m\u001b[0m\n\u001b[0m\u001b[1;32m     62\u001b[0m     \u001b[0mwords\u001b[0m\u001b[0;34m,\u001b[0m \u001b[0mq\u001b[0m \u001b[0;34m=\u001b[0m \u001b[0mzip\u001b[0m\u001b[0;34m(\u001b[0m\u001b[0;34m*\u001b[0m\u001b[0md2_count\u001b[0m\u001b[0;34m.\u001b[0m\u001b[0mitems\u001b[0m\u001b[0;34m(\u001b[0m\u001b[0;34m)\u001b[0m\u001b[0;34m)\u001b[0m\u001b[0;34m\u001b[0m\u001b[0m\n\u001b[1;32m     63\u001b[0m     \u001b[0mwords\u001b[0m \u001b[0;34m=\u001b[0m \u001b[0mnp\u001b[0m\u001b[0;34m.\u001b[0m\u001b[0marray\u001b[0m\u001b[0;34m(\u001b[0m\u001b[0mwords\u001b[0m\u001b[0;34m)\u001b[0m\u001b[0;34m\u001b[0m\u001b[0m\n",
      "\u001b[0;31mValueError\u001b[0m: not enough values to unpack (expected 2, got 0)"
     ]
    }
   ],
   "source": [
    "%%time\n",
    "data = [e[1] for e in twitter]\n",
    "N = len(data)\n",
    "D_temp = np.zeros([N,N])\n",
    "\n",
    "for i in range(N):\n",
    "    if i % (N//10) == 0:\n",
    "        print(\"Step i = %d\" %i)\n",
    "    for j in range(i + 1, N):\n",
    "        D_temp[i, j] =  distance(data[i], data[j], 1, 10)\n",
    "        \n",
    "D = D_temp + np.transpose(D_temp)\n",
    "\n",
    "import pickle\n",
    "pickle.dump(D, open(\"D.p\", 'wb'))"
   ]
  },
  {
   "cell_type": "code",
   "execution_count": null,
   "metadata": {
    "collapsed": false
   },
   "outputs": [],
   "source": [
    "%%time\n",
    "\n",
    "import numpy\n",
    "\n",
    "import scipy\n",
    "import scipy.spatial.distance\n",
    "\n",
    "import sys\n",
    "\n",
    "\n",
    "from numba import jit\n",
    "\n",
    "import theano\n",
    "\n",
    "try:\n",
    "    from time import perf_counter\n",
    "except:\n",
    "    from time import time\n",
    "    perf_counter = time\n",
    "\n",
    "\n",
    "INF = float('inf')\n",
    "\n",
    "\n",
    "# @autojit\n",
    "def closest_medoids_cost(distances, medoid_ids):\n",
    "    \"\"\"\n",
    "    Computing the closest medoids and the cost of the new configuration\n",
    "    using numpy\n",
    "    \"\"\"\n",
    "    closest_ids = numpy.argmin(distances[:, medoid_ids], axis=1)\n",
    "    return closest_ids, numpy.sum(distances[:, closest_ids])\n",
    "\n",
    "\n",
    "@jit\n",
    "def closest_medoids_numba(distances, medoid_ids, clustering):\n",
    "    \"\"\"\n",
    "    Computing the closest medoids and the cost of the new configuration\n",
    "    using a simple loop optimized with Numba\n",
    "    \"\"\"\n",
    "    n_instances = distances.shape[0]\n",
    "    tot_cost = 0\n",
    "    for i in range(n_instances):\n",
    "        best_medoid = i\n",
    "        best_cost = INF\n",
    "        for j in medoid_ids:\n",
    "            cost = distances[i, j]\n",
    "            if cost < best_cost:\n",
    "                best_cost = cost\n",
    "                best_medoid = j\n",
    "\n",
    "        tot_cost += best_cost\n",
    "        clustering[i] = best_medoid\n",
    "\n",
    "    return tot_cost\n",
    "\n",
    "\n",
    "def create_theano_cost_function(distances):\n",
    "    \"\"\"\n",
    "    Creating the function to compute the closest medoids and the cost\n",
    "    of that configuration using Theano\n",
    "    \"\"\"\n",
    "    #\n",
    "    # the distance matrix is a shared var\n",
    "    #\n",
    "    D = theano.shared(distances)\n",
    "    M = theano.tensor.bvector()\n",
    "    #\n",
    "    # Some tricky stuff here, I am using max_and_argmax to get both\n",
    "    # things so I shall use an inverted distance matrix\n",
    "    #\n",
    "    Inf = theano.shared(float('inf'))\n",
    "    D_meds = theano.tensor.switch(M, -D, -Inf)\n",
    "    # D_meds = theano.printing.Print('DM')(D_meds_a)\n",
    "    Closest, Idx = theano.tensor.max_and_argmax(D_meds, axis=1)\n",
    "    # Closest = theano.printing.Print('CLS')(Closest_a)\n",
    "    # Idx = theano.printing.Print('IDX')(Idx_a)\n",
    "    Cost = theano.tensor.sum(Closest)\n",
    "    return theano.function([M], [-Cost, Idx])\n",
    "\n",
    "\n",
    "def medoid_assoc_to_clustering(clustering):\n",
    "    \"\"\"\n",
    "    Converting a clustering by medoid ids into one with sequential ids\n",
    "    (starting from 0)\n",
    "    \"\"\"\n",
    "    medoids_to_clusters = set(clustering)\n",
    "\n",
    "    clustering_assoc = {medoid_id: cluster_id for cluster_id, medoid_id\n",
    "                        in enumerate(medoids_to_clusters)}\n",
    "    clustering_ids = [clustering_assoc[medoid_id] for medoid_id in clustering]\n",
    "    return clustering_ids\n",
    "\n",
    "# @autojit\n",
    "\n",
    "\n",
    "def pam(distances,\n",
    "        k,\n",
    "        n_iters=100,\n",
    "        delta_cost=1e-5,\n",
    "        rand_gen=None,\n",
    "        medoids_2_clusters=False,\n",
    "        theano=False):\n",
    "    \"\"\"\n",
    "    Partitioning Around Medoids (PAM) implementation of K-Medoids\n",
    "    \"\"\"\n",
    "    n_instances = distances.shape[0]\n",
    "    stop = False\n",
    "    iter = 0\n",
    "\n",
    "    if theano:\n",
    "        closest_medoids_theano = create_theano_cost_function(distances)\n",
    "\n",
    "    if rand_gen is None:\n",
    "        rand_gen = numpy.random.RandomState(1337)\n",
    "\n",
    "    instance_ids = [i for i in range(n_instances)]\n",
    "    #\n",
    "    # using an array of bits\n",
    "    medoid_ids_vec = numpy.zeros(n_instances, dtype=bool)\n",
    "\n",
    "    # setting k random medoids\n",
    "    medoid_ids = rand_gen.choice(instance_ids, k, replace=False)\n",
    "    # medoid_ids = [1, 7]\n",
    "    medoid_ids_vec[medoid_ids] = True\n",
    "\n",
    "    #\n",
    "    # using another array for the medoid correspondences\n",
    "    # assigning to the closest medoid\n",
    "    if not theano:\n",
    "        clustering = numpy.zeros(n_instances, dtype='int32')\n",
    "        cost = closest_medoids_numba(distances, medoid_ids, clustering)\n",
    "\n",
    "    else:\n",
    "        cost, clustering = closest_medoids_theano(medoid_ids_vec)\n",
    "\n",
    "    print('Initial cost {0} clustering {1} medoids {2} vec {3}'.\n",
    "          format(cost, clustering, medoid_ids, medoid_ids_vec))\n",
    "\n",
    "    best_cost = cost\n",
    "    best_clustering = clustering\n",
    "    curr_best_cost = cost\n",
    "    curr_best_clustering = numpy.copy(clustering)\n",
    "    curr_best_medoid_ids = medoid_ids\n",
    "    curr_best_medoid_ids_vec = medoid_ids_vec\n",
    "\n",
    "    while iter < n_iters and not stop:\n",
    "\n",
    "        iter_start_t = perf_counter()\n",
    "        #\n",
    "        # Maximization step\n",
    "        #\n",
    "        for i, medoid_id in enumerate(medoid_ids):\n",
    "\n",
    "            avg_swap_t = 0\n",
    "            #\n",
    "            # Trying to swap each other instance\n",
    "            #\n",
    "            for j in instance_ids:\n",
    "\n",
    "                swap_start_t = perf_counter()\n",
    "\n",
    "                # j is not a medoid\n",
    "                if not medoid_ids_vec[j]:\n",
    "\n",
    "                    # remove medoid\n",
    "                    # medoid_ids_cp = set(medoid_ids)\n",
    "                    # medoid_ids_cp.remove(medoid_id)\n",
    "                    # add instance\n",
    "                    # medoid_ids_cp.add(j)\n",
    "\n",
    "                    # print('\\n curr vec', medoid_ids_vec)\n",
    "                    medoid_ids_vec[medoid_id] = False\n",
    "                    medoid_ids_vec[j] = True\n",
    "\n",
    "                    medoid_ids_cp, = numpy.where(medoid_ids_vec)\n",
    "\n",
    "                    # compute the Expected cost\n",
    "                    # clustering, cost = closest_medoids_cost(distances,\n",
    "                    #                                         medoid_ids_vec)\n",
    "                    if not theano:\n",
    "                        cost = closest_medoids_numba(distances,\n",
    "                                                     medoid_ids_cp,\n",
    "                                                     clustering)\n",
    "                    else:\n",
    "                        cost, clustering = closest_medoids_theano(\n",
    "                            medoid_ids_vec)\n",
    "\n",
    "                    #       format(cost, clustering,\n",
    "                    #              medoid_ids_cp, medoid_ids_vec))\n",
    "\n",
    "                    if cost < curr_best_cost:\n",
    "                        print(\n",
    "                            '\\nnew best cost {0}/{1}'.format(cost,\n",
    "                                                             curr_best_cost))\n",
    "                        curr_best_cost = cost\n",
    "                        curr_best_clustering = numpy.copy(clustering)\n",
    "                        curr_best_medoid_ids_vec = numpy.copy(medoid_ids_vec)\n",
    "                        curr_best_medoid_ids = medoid_ids_cp\n",
    "\n",
    "                    medoid_ids_vec[medoid_id] = True\n",
    "                    medoid_ids_vec[j] = False\n",
    "\n",
    "                swap_end_t = perf_counter()\n",
    "                avg_swap_t += (swap_end_t - swap_start_t)\n",
    "                sys.stdout.write('\\rswapped {0}-{1} [{2:.4f} secs avg]'.\n",
    "                                 format(i, j, avg_swap_t / (j + 1)))\n",
    "                sys.stdout.flush()\n",
    "\n",
    "        #\n",
    "        # checking for the cost as well?\n",
    "        #\n",
    "        delta_cost = best_cost - curr_best_cost\n",
    "\n",
    "        #\n",
    "        # checking for changes in the clustering scheme\n",
    "        #\n",
    "        if numpy.any(medoid_ids_vec != curr_best_medoid_ids_vec):\n",
    "            print('\\nNew clustering', best_clustering)\n",
    "            best_clustering = curr_best_clustering\n",
    "            medoid_ids = curr_best_medoid_ids\n",
    "            medoid_ids_vec = curr_best_medoid_ids_vec\n",
    "            best_cost = curr_best_cost\n",
    "        else:\n",
    "            stop = True\n",
    "\n",
    "        iter_end_t = perf_counter()\n",
    "        print('\\n-->Elapsed {0:.4f} secs for iteration {1}/{2} COST:{3}'.\n",
    "              format(iter_end_t - iter_start_t,\n",
    "                     iter + 1,\n",
    "                     n_iters,\n",
    "                     best_cost))\n",
    "        iter += 1\n",
    "\n",
    "    #\n",
    "    # translating from medoids to clusters?\n",
    "    #\n",
    "    print('Best clustering (medoid ids)', best_clustering)\n",
    "    if medoids_2_clusters:\n",
    "        best_clustering = medoid_assoc_to_clustering(best_clustering)\n",
    "        print('Best clustering (cluster ids)', best_clustering)\n",
    "\n",
    "    return best_clustering\n",
    "\n",
    "\n",
    "def compute_similarity_matrix(data_slice):\n",
    "    \"\"\"\n",
    "    From a matrix m x n creates a kernel matrix\n",
    "    according to a metric of size m x m\n",
    "    (it shall be symmetric, and (semidefinite) positive)\n",
    "\n",
    "    ** USES SCIPY **\n",
    "\n",
    "    \"\"\"\n",
    "\n",
    "    pairwise_dists = \\\n",
    "        scipy.spatial.distance.squareform(\n",
    "            scipy.spatial.distance.pdist(data_slice,\n",
    "                                         'sqeuclidean'))\n",
    "\n",
    "    return pairwise_dists\n",
    "\n",
    "\n",
    "\n",
    "clustering = pam(D, 3, theano=True)"
   ]
  },
  {
   "cell_type": "code",
   "execution_count": null,
   "metadata": {
    "collapsed": false
   },
   "outputs": [],
   "source": [
    "from sklearn import metrics\n",
    "\n",
    "true_classes = [(e[0]) for e in twitter[:10]]\n",
    "metrics.adjusted_rand_score(true_classes, clustering)"
   ]
  },
  {
   "cell_type": "markdown",
   "metadata": {},
   "source": [
    "__ Precompute the cost matrix__"
   ]
  },
  {
   "cell_type": "markdown",
   "metadata": {},
   "source": [
    "Load the 10 000 most common words used in English"
   ]
  },
  {
   "cell_type": "code",
   "execution_count": 69,
   "metadata": {
    "collapsed": false
   },
   "outputs": [
    {
     "data": {
      "text/plain": [
       "9669"
      ]
     },
     "execution_count": 69,
     "metadata": {},
     "output_type": "execute_result"
    }
   ],
   "source": [
    "most_common_words = []\n",
    "with open(\"data/google-10000-english.txt\") as f:\n",
    "    for word in f:\n",
    "        word = word[:-1]\n",
    "        if word not in stop_words:\n",
    "            delete = False\n",
    "            try:\n",
    "                w2v_model[word]\n",
    "            except KeyError:\n",
    "                delete = True\n",
    "            if not delete:\n",
    "                most_common_words = most_common_words + [word]\n",
    "            \n",
    "len(most_common_words)"
   ]
  },
  {
   "cell_type": "markdown",
   "metadata": {},
   "source": [
    "Compute the cost matrix using the euclidian distance"
   ]
  },
  {
   "cell_type": "code",
   "execution_count": 87,
   "metadata": {
    "collapsed": false
   },
   "outputs": [
    {
     "name": "stdout",
     "output_type": "stream",
     "text": [
      "Step 0\n",
      "Step 966\n",
      "Step 1932\n",
      "Step 2898\n",
      "Step 3864\n",
      "Step 4830\n",
      "Step 5796\n",
      "Step 6762\n",
      "Step 7728\n",
      "Step 8694\n",
      "Step 9660\n",
      "CPU times: user 7min 1s, sys: 4.27 s, total: 7min 6s\n",
      "Wall time: 7min 15s\n"
     ]
    }
   ],
   "source": [
    "%%time\n",
    "N_retain = len(most_common_words)\n",
    "to_compute = most_common_words[:N_retain]\n",
    "keys = dict((e[1], e[0]) for e in enumerate(to_compute))\n",
    "C_most_common = np.zeros([N_retain, N_retain])\n",
    "\n",
    "for i in range(N_retain):\n",
    "    if i % (N_retain // 10) == 0:\n",
    "        print(\"Step %d\" %i)\n",
    "    for j in range(i + 1, N_retain):\n",
    "        C_most_common[i, j] = np.sqrt(np.sum((w2v_model[most_common_words[i]] - w2v_model[most_common_words[j]])**2))\n",
    "\n",
    "C_most_common = C_most_common + np.transpose(C_most_common)   "
   ]
  },
  {
   "cell_type": "code",
   "execution_count": 88,
   "metadata": {
    "collapsed": false
   },
   "outputs": [
    {
     "data": {
      "text/plain": [
       "(3.2718787, 3.271878719329834)"
      ]
     },
     "execution_count": 88,
     "metadata": {},
     "output_type": "execute_result"
    }
   ],
   "source": [
    "np.sqrt(np.sum((w2v_model[\"house\"] - w2v_model[\"rabbit\"])**2)), C_most_common[keys[\"house\"], keys[\"rabbit\"]] "
   ]
  },
  {
   "cell_type": "markdown",
   "metadata": {},
   "source": [
    "Save everything. "
   ]
  },
  {
   "cell_type": "code",
   "execution_count": 134,
   "metadata": {
    "collapsed": false
   },
   "outputs": [],
   "source": [
    "import pickle\n",
    "\n",
    "pickle.dump(C_most_common, open(\"C_most_common.p\", 'wb'))\n",
    "pickle.dump(keys, open(\"keys_most_common.p\", 'wb'))"
   ]
  },
  {
   "cell_type": "markdown",
   "metadata": {},
   "source": [
    "# Bibliography\n",
    "------------\n",
    "<html><a name=\"biblio\"></a></html>\n",
    "\n",
    "* [Mikolov] T. Mikolov, I. Sutskever, K. Chen, G. S. Corrado, and J. Dean. Distributed representations of words and phrases and their compositionality. In Advances in Neural Information Processing Systems 26, pages 3111–3119. Curran Associates, Inc., 2013.\n",
    "* [Villani] C. Villani, (2009). Optimal transport: old and new, volume 338. Springer Verlag.\n",
    "* [Cuturi] M. Cuturi, (2013). Sinkhorn distances: Lightspeed computation of optimal transport. In Burges, C. J. C., Bottou, L., Ghahramani, Z., and Weinberger, K. Q., editors, Proc. NIPS, pages 2292-2300.\n",
    "* [BenamouEtAl] J-D. Benamou, G. Carlier, M. Cuturi, L. Nenna, G. Peyr . Iterative Bregman Projections for Regularized Transportation Problems. SIAM Journal on Scientific Computing, 37(2), pp. A1111-A1138, 2015.\n",
    "* [Salton] Salton, G. and Buckley, C. Term-weighting approaches in automatic text retrieval. Information processing & man- agement, 24(5):513–523, 1988"
   ]
  }
 ],
 "metadata": {
  "anaconda-cloud": {},
  "kernelspec": {
   "display_name": "Python [Root]",
   "language": "python",
   "name": "Python [Root]"
  },
  "language_info": {
   "codemirror_mode": {
    "name": "ipython",
    "version": 3
   },
   "file_extension": ".py",
   "mimetype": "text/x-python",
   "name": "python",
   "nbconvert_exporter": "python",
   "pygments_lexer": "ipython3",
   "version": "3.5.2"
  }
 },
 "nbformat": 4,
 "nbformat_minor": 0
}
