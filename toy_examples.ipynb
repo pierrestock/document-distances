{
 "cells": [
  {
   "cell_type": "markdown",
   "metadata": {
    "collapsed": false
   },
   "source": [
    "__Fast computation of document distances using optimal transportation__\n",
    "========================================================\n",
    "\n",
    "We illustrate the algorithm described in the report on a toy examples to understand the influence of the different parameters. For further details we refer to the pdf report as well as the python files.\n",
    "$\\newcommand{\\dotp}[2]{\\langle #1, #2 \\rangle}$\n",
    "$\\newcommand{\\enscond}[2]{\\lbrace #1, #2 \\rbrace}$\n",
    "$\\newcommand{\\pd}[2]{ \\frac{ \\partial #1}{\\partial #2} }$\n",
    "$\\newcommand{\\umin}[1]{\\underset{#1}{\\min}\\;}$\n",
    "$\\newcommand{\\umax}[1]{\\underset{#1}{\\max}\\;}$\n",
    "$\\newcommand{\\umin}[1]{\\underset{#1}{\\min}\\;}$\n",
    "$\\newcommand{\\uargmin}[1]{\\underset{#1}{argmin}\\;}$\n",
    "$\\newcommand{\\norm}[1]{\\|#1\\|}$\n",
    "$\\newcommand{\\abs}[1]{\\left|#1\\right|}$\n",
    "$\\newcommand{\\choice}[1]{ \\left\\{  \\begin{array}{l} #1 \\end{array} \\right. }$\n",
    "$\\newcommand{\\pa}[1]{\\left(#1\\right)}$\n",
    "$\\newcommand{\\diag}[1]{{diag}\\left( #1 \\right)}$\n",
    "$\\newcommand{\\qandq}{\\quad\\text{and}\\quad}$\n",
    "$\\newcommand{\\qwhereq}{\\quad\\text{where}\\quad}$\n",
    "$\\newcommand{\\qifq}{ \\quad \\text{if} \\quad }$\n",
    "$\\newcommand{\\qarrq}{ \\quad \\Longrightarrow \\quad }$\n",
    "$\\newcommand{\\ZZ}{\\mathbb{Z}}$\n",
    "$\\newcommand{\\CC}{\\mathbb{C}}$\n",
    "$\\newcommand{\\RR}{\\mathbb{R}}$\n",
    "$\\newcommand{\\EE}{\\mathbb{E}}$\n",
    "$\\newcommand{\\Zz}{\\mathcal{Z}}$\n",
    "$\\newcommand{\\Ww}{\\mathcal{W}}$\n",
    "$\\newcommand{\\Vv}{\\mathcal{V}}$\n",
    "$\\newcommand{\\Nn}{\\mathcal{N}}$\n",
    "$\\newcommand{\\NN}{\\mathcal{N}}$\n",
    "$\\newcommand{\\Hh}{\\mathcal{H}}$\n",
    "$\\newcommand{\\Bb}{\\mathcal{B}}$\n",
    "$\\newcommand{\\Ee}{\\mathcal{E}}$\n",
    "$\\newcommand{\\Cc}{\\mathcal{C}}$\n",
    "$\\newcommand{\\Gg}{\\mathcal{G}}$\n",
    "$\\newcommand{\\Ss}{\\mathcal{S}}$\n",
    "$\\newcommand{\\Pp}{\\mathcal{P}}$\n",
    "$\\newcommand{\\Ff}{\\mathcal{F}}$\n",
    "$\\newcommand{\\Xx}{\\mathcal{X}}$\n",
    "$\\newcommand{\\Mm}{\\mathcal{M}}$\n",
    "$\\newcommand{\\Ii}{\\mathcal{I}}$\n",
    "$\\newcommand{\\Dd}{\\mathcal{D}}$\n",
    "$\\newcommand{\\Ll}{\\mathcal{L}}$\n",
    "$\\newcommand{\\Tt}{\\mathcal{T}}$\n",
    "$\\newcommand{\\si}{\\sigma}$\n",
    "$\\newcommand{\\al}{\\alpha}$\n",
    "$\\newcommand{\\la}{\\lambda}$\n",
    "$\\newcommand{\\ga}{\\gamma}$\n",
    "$\\newcommand{\\Ga}{\\Gamma}$\n",
    "$\\newcommand{\\La}{\\Lambda}$\n",
    "$\\newcommand{\\si}{\\sigma}$\n",
    "$\\newcommand{\\Si}{\\Sigma}$\n",
    "$\\newcommand{\\be}{\\beta}$\n",
    "$\\newcommand{\\de}{\\delta}$\n",
    "$\\newcommand{\\De}{\\Delta}$\n",
    "$\\newcommand{\\phi}{\\varphi}$\n",
    "$\\newcommand{\\th}{\\theta}$\n",
    "$\\newcommand{\\om}{\\omega}$\n",
    "$\\newcommand{\\Om}{\\Omega}$\n",
    "$\\newcommand{\\eqdef}{\\equiv}$\n",
    "$\\newcommand\\ones{\\mathbf{1}}$"
   ]
  },
  {
   "cell_type": "code",
   "execution_count": 53,
   "metadata": {
    "collapsed": false
   },
   "outputs": [
    {
     "name": "stdout",
     "output_type": "stream",
     "text": [
      "The autoreload extension is already loaded. To reload it, use:\n",
      "  %reload_ext autoreload\n"
     ]
    }
   ],
   "source": [
    "import numpy as np\n",
    "import gensim as gs\n",
    "import matplotlib.pyplot as plt\n",
    "\n",
    "from compute_distance import distance\n",
    "\n",
    "%matplotlib inline\n",
    "%load_ext autoreload\n",
    "%autoreload 2\n",
    "\n",
    "data_path = \"/home/ubuntu/pcs/data/\""
   ]
  },
  {
   "cell_type": "markdown",
   "metadata": {},
   "source": [
    "Brief description of Sinkhorn's algorithm\n",
    "---------------------------------------------\n",
    "\n",
    "We use the approach explained in [Kusner](#biblio) consisting in solving the transportation problem between histograms of texts. After a preprocessing step, each document is mapped to an histogram counting the occurence of the words in that document (using as support all the words appearing in at least on of the documents). \n",
    "\n",
    "The words are then embedded in a high-dimentional space using the word2vec model. The distance between the two docments is then the minimum transportation cost between the two histograms :\n",
    "\n",
    "$$d = \\min_{\\pi \\in \\Pi(p,q)}\\sum_{i,j}\\pi_{i,j} C_{i,j}$$\n",
    "\n",
    "with the weight constraints \n",
    "\n",
    "$$\\pi \\in \\Pi(p,q) = \\enscond{\\pi \\in (\\RR^+)^{N \\times N}}{ \\pi \\ones = p, \\pi^T \\ones = q }$$\n",
    "\n",
    "using\n",
    "- The euclidian norm in the embedding space as transportation cost $C_{i,j}$,\n",
    "- Weights $p$ and $q$ representing the occurences of words on each document.\n",
    "\n",
    "Instead of directly solving this problem, we rather implement the Sinkhorn's algorithm described in [Sinkhorn](#biblio) to compute the optimal policy $\\pi^{\\star}$. It consists in solving an entropic-regularized version of the transportation problem:\n",
    "\n",
    "$$\\pi^{\\star} = \\text{argmin}_{\\pi \\in \\Pi(p,q)}\\langle C, \\pi \\rangle - \\lambda E(\\pi)$$"
   ]
  },
  {
   "cell_type": "markdown",
   "metadata": {},
   "source": [
    "The word2vec Model\n",
    "-------------------------\n",
    "\n",
    "We will leverage the recent works of Mikolov et al. [10] by embedding the words in a 300-dimensional space. The subsequent freely available model generates low-dimensional word embeddings using a 2-layers shallow neural network that has been trained on approximately 100 billion words. The authors demonstrated that the model learned high-quality word representations that are able to capture precise syntactic and semantic meanings"
   ]
  },
  {
   "cell_type": "markdown",
   "metadata": {},
   "source": [
    "Load the model *(may take some time)*"
   ]
  },
  {
   "cell_type": "code",
   "execution_count": 56,
   "metadata": {
    "collapsed": false
   },
   "outputs": [],
   "source": [
    "model = gs.models.Word2Vec.load_word2vec_format(data_path + 'word2vec/GoogleNews-vectors-negative300.bin.gz', binary=True)  "
   ]
  },
  {
   "cell_type": "markdown",
   "metadata": {},
   "source": [
    "A word is represented by a vector in a 300-dimensional embedding space"
   ]
  },
  {
   "cell_type": "code",
   "execution_count": 84,
   "metadata": {
    "collapsed": false
   },
   "outputs": [
    {
     "name": "stdout",
     "output_type": "stream",
     "text": [
      "Dimension of embedding space: 300\n"
     ]
    }
   ],
   "source": [
    "print(\"Dimension of embedding space: %d\" %len(model[\"man\"]))"
   ]
  },
  {
   "cell_type": "code",
   "execution_count": 145,
   "metadata": {
    "collapsed": false
   },
   "outputs": [
    {
     "data": {
      "image/png": "[encoded data removed]",
      "text/plain": [
       "<matplotlib.figure.Figure at 0x2250ca390>"
      ]
     },
     "metadata": {},
     "output_type": "display_data"
    }
   ],
   "source": [
    "from sklearn import decomposition\n",
    "\n",
    "words = [\"China\", \"Beijing\", \"Russia\", \"Moscow\", \"Japan\", \"Tokyo\", \"Turkey\", \"Ankara\", \"Poland\", \"Warsaw\", \"Germany\", \"Berlin\", \"France\", \"Paris\", \"Italy\", \"Rome\", \"Greece\", \"Athens\"]\n",
    "X = model[words]\n",
    "\n",
    "pca = decomposition.PCA(n_components=2)\n",
    "pca.fit(X)\n",
    "X = pca.transform(X)\n",
    "\n",
    "plt.figure(figsize=(10, 7))\n",
    "plt.scatter(X[:, 0], X[:, 1], s = 30)\n",
    "\n",
    "# annotations\n",
    "for i in range(len(words)):\n",
    "    eps = .1\n",
    "    plt.text(X[i, 0] + eps, X[i, 1] - eps, words[i], fontsize = 12)\n",
    "\n",
    "for i in range(len(words)):\n",
    "    if i % 2 == 0:\n",
    "        plt.plot(X[i:(i + 2), 0], X[i:(i + 2), 1], linewidth = 1.5)\n",
    "    \n",
    "plt.xlabel(\"PCA 1\")\n",
    "plt.ylabel(\"PCA 2\")\n",
    "plt.show()"
   ]
  },
  {
   "cell_type": "markdown",
   "metadata": {},
   "source": [
    "Find word synonyms"
   ]
  },
  {
   "cell_type": "code",
   "execution_count": null,
   "metadata": {
    "collapsed": true
   },
   "outputs": [],
   "source": [
    "model.most_similar(positive=['great'], topn=10)"
   ]
  },
  {
   "cell_type": "markdown",
   "metadata": {},
   "source": [
    "Perform algebraic calculus in the embedding space"
   ]
  },
  {
   "cell_type": "code",
   "execution_count": null,
   "metadata": {
    "collapsed": true
   },
   "outputs": [],
   "source": [
    "model.most_similar(positive=['woman', 'king'], negative=['man'], topn=5)"
   ]
  },
  {
   "cell_type": "code",
   "execution_count": null,
   "metadata": {
    "collapsed": true
   },
   "outputs": [],
   "source": [
    "model.most_similar(positive=['Messi', 'tennis'], negative=['football'], topn=5)"
   ]
  },
  {
   "cell_type": "markdown",
   "metadata": {},
   "source": [
    "Other fun functionnalities"
   ]
  },
  {
   "cell_type": "code",
   "execution_count": null,
   "metadata": {
    "collapsed": true
   },
   "outputs": [],
   "source": [
    "model.doesnt_match(\"Debussy Satie Ravel Bach\".split())"
   ]
  },
  {
   "cell_type": "code",
   "execution_count": null,
   "metadata": {
    "collapsed": true
   },
   "outputs": [],
   "source": [
    "model.n_similarity(['sushi', 'shop'], ['japanese', 'restaurant'])"
   ]
  },
  {
   "cell_type": "markdown",
   "metadata": {},
   "source": [
    "Illustration of the algorithm on news articles\n",
    "------------------------------\n",
    "Load some articles related to sports or politics"
   ]
  },
  {
   "cell_type": "code",
   "execution_count": 7,
   "metadata": {
    "collapsed": false
   },
   "outputs": [
    {
     "data": {
      "text/plain": [
       "array([[ 3.17960085,  3.00464117,  2.98006177,  3.47547887,  3.40356802,\n",
       "         3.51069357,  2.86673376,  3.13844498,  3.02719937,  3.52843742,\n",
       "         3.41696749,  2.9675529 ,  3.23956903,  3.7306532 ,  3.37666687,\n",
       "         3.58538278,  3.22045194,  3.59128535,  2.77774602,  2.83868129,\n",
       "         2.97110435,  2.80962364,  3.11266511,  3.09630885,  3.03864862,\n",
       "         3.83286946,  2.94025447,  2.90449921,  3.42703267,  3.02295638,\n",
       "         3.49994481,  3.51999557,  3.01399717,  3.24602754,  3.39829723,\n",
       "         2.6232439 ,  3.03406465,  3.06383347,  3.40152698,  3.18901259,\n",
       "         3.06587051,  3.35685926,  3.24826476,  3.52809152,  3.52959   ,\n",
       "         3.2897755 ,  3.24230779,  3.06338378,  3.4974024 ,  3.11517948,\n",
       "         3.01149047,  2.91194739,  3.4289691 ,  3.20045799,  3.01585022,\n",
       "         3.93562134,  3.14223004,  3.21429235,  3.27908842,  3.09519142,\n",
       "         3.24602754,  2.91915351,  2.72074483,  2.97997883,  2.86730362,\n",
       "         2.87390908,  3.02584257,  2.95423443,  3.64292456,  3.0746785 ,\n",
       "         3.15538876,  3.05719948,  2.98653581,  3.27397118,  3.21194025,\n",
       "         2.88528335,  2.8819789 ,  3.09947122,  3.49367561,  3.35399522,\n",
       "         3.58289424,  3.31352422,  3.45009369,  3.02292275,  3.25941575,\n",
       "         2.99308394,  2.79843273,  3.5852856 ,  3.13907063,  3.09031677,\n",
       "         2.98166464,  3.51619858,  2.9116697 ,  3.24239757,  3.58655702,\n",
       "         3.47276798,  3.68602031,  3.47965244,  3.08862196,  3.60784029]])"
      ]
     },
     "execution_count": 7,
     "metadata": {},
     "output_type": "execute_result"
    }
   ],
   "source": [
    "with open(data_path + \"sport1.txt\", encoding='utf-8') as f:\n",
    "    sport1 = f.read()\n",
    "with open(data_path + \"sport2.txt\", encoding='utf-8') as f:\n",
    "    sport2 = f.read()\n",
    "with open(data_path + \"politics1.txt\", encoding='utf-8') as f:\n",
    "    politics1 = f.read()\n",
    "with open(data_path + \"politics2.txt\", encoding='utf-8') as f:\n",
    "    politics2 = f.read()"
   ]
  },
  {
   "cell_type": "markdown",
   "metadata": {},
   "source": [
    "Compute pairwise distances"
   ]
  },
  {
   "cell_type": "code",
   "execution_count": null,
   "metadata": {
    "collapsed": true
   },
   "outputs": [],
   "source": [
    "print(\"Distance(sport1, sport2) = %.2f \" %distance(sport1, sport2, 1, 100))\n",
    "print(\"Distance(politics1, politics2) = %.2f \" %distance(politics1, politics2, 1, 100))\n",
    "print(\"Distance(sport1, politics2) = %.2f \" %distance(sport1, politics2, 1, 100))\n",
    "print(\"Distance(politics1, sport2) = %.2f \" %distance(politics1, sport2, 1, 100))"
   ]
  },
  {
   "cell_type": "markdown",
   "metadata": {},
   "source": [
    "Influence of $\\lambda$ and the number of iterations: those parameters have to be tuned carefully demending on the type of documents we are dealing with."
   ]
  },
  {
   "cell_type": "code",
   "execution_count": null,
   "metadata": {
    "collapsed": true
   },
   "outputs": [],
   "source": [
    "lambda_list = np.logspace(-2,2,10)\n",
    "niter_list = [10, 50, 100, 300]\n",
    "plt.figure(figsize = (16,12))\n",
    "    \n",
    "for it in range(len(niter_list)):\n",
    "    niter = niter_list[it]\n",
    "    results = np.zeros([len(lambda_list), 4])\n",
    "\n",
    "    for i in range(len(lambda_list)):\n",
    "        lambd = lambda_list[i]\n",
    "        results[i, 0] =  distance(sport1, sport2, lambd, niter)\n",
    "        results[i, 1] =  distance(politics1, politics2, lambd, niter)\n",
    "        results[i, 2] =  distance(sport1, politics2, lambd, niter)\n",
    "        results[i, 3] =  distance(politics1, sport2, lambd, niter)\n",
    "    \n",
    "    plt.subplot(2,2,it + 1)\n",
    "    plt.plot(results[:, 0] , color = 'red')\n",
    "    plt.plot(results[:, 1] , color = 'blue')\n",
    "    plt.plot(results[:, 2] , 'r--', color = 'black')\n",
    "    plt.plot(results[:, 3] , 'r-.', color = 'black')\n",
    "    plt.xticks(np.arange(10), np.around(lambda_list, 2))\n",
    "    plt.xlabel(\"$\\lambda$\")\n",
    "    plt.ylabel(\"Distance\")\n",
    "    plt.title(\"Number of iterations: %d\" %niter)\n",
    "    plt.legend(['sport1 - sport2', 'politics1 - politics2', 'sport1 - politics2', 'politics1 - sport2'], loc=4)"
   ]
  },
  {
   "cell_type": "markdown",
   "metadata": {},
   "source": [
    "Influence of the regularization parameter\n",
    "---------------------------------------------"
   ]
  },
  {
   "cell_type": "code",
   "execution_count": null,
   "metadata": {
    "collapsed": true
   },
   "outputs": [],
   "source": []
  },
  {
   "cell_type": "markdown",
   "metadata": {},
   "source": [
    "Influence of the embedding metric\n",
    "------------------------------------"
   ]
  },
  {
   "cell_type": "code",
   "execution_count": null,
   "metadata": {
    "collapsed": true
   },
   "outputs": [],
   "source": []
  },
  {
   "cell_type": "code",
   "execution_count": 48,
   "metadata": {
    "collapsed": false
   },
   "outputs": [],
   "source": [
    "idx = np.argsort([2, 4, 1])"
   ]
  },
  {
   "cell_type": "code",
   "execution_count": 49,
   "metadata": {
    "collapsed": false
   },
   "outputs": [
    {
     "data": {
      "text/plain": [
       "array([2, 0, 1])"
      ]
     },
     "execution_count": 49,
     "metadata": {},
     "output_type": "execute_result"
    }
   ],
   "source": [
    "idx"
   ]
  },
  {
   "cell_type": "code",
   "execution_count": 50,
   "metadata": {
    "collapsed": false
   },
   "outputs": [
    {
     "data": {
      "text/plain": [
       "Counter({1: 1, 2: 1, 3: 1})"
      ]
     },
     "execution_count": 50,
     "metadata": {},
     "output_type": "execute_result"
    }
   ],
   "source": [
    "t = np.asarray([1, 2, 3])\n",
    "Counter(t[idx])"
   ]
  },
  {
   "cell_type": "code",
   "execution_count": 44,
   "metadata": {
    "collapsed": true
   },
   "outputs": [],
   "source": []
  },
  {
   "cell_type": "code",
   "execution_count": 39,
   "metadata": {
    "collapsed": true
   },
   "outputs": [],
   "source": []
  },
  {
   "cell_type": "code",
   "execution_count": 41,
   "metadata": {
    "collapsed": false
   },
   "outputs": [
    {
     "data": {
      "text/plain": [
       "array([], dtype=float64)"
      ]
     },
     "execution_count": 41,
     "metadata": {},
     "output_type": "execute_result"
    }
   ],
   "source": [
    "t"
   ]
  },
  {
   "cell_type": "code",
   "execution_count": null,
   "metadata": {
    "collapsed": true
   },
   "outputs": [],
   "source": []
  }
 ],
 "metadata": {
  "anaconda-cloud": {},
  "kernelspec": {
   "display_name": "Python [Root]",
   "language": "python",
   "name": "Python [Root]"
  },
  "language_info": {
   "codemirror_mode": {
    "name": "ipython",
    "version": 3
   },
   "file_extension": ".py",
   "mimetype": "text/x-python",
   "name": "python",
   "nbconvert_exporter": "python",
   "pygments_lexer": "ipython3",
   "version": "3.5.2"
  }
 },
 "nbformat": 4,
 "nbformat_minor": 0
}
